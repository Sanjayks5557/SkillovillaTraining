{
  "nbformat": 4,
  "nbformat_minor": 0,
  "metadata": {
    "colab": {
      "provenance": [],
      "collapsed_sections": [
        "fkYcHrVOgwBI",
        "dvcM5wiK6nLl"
      ],
      "include_colab_link": true
    },
    "kernelspec": {
      "name": "python3",
      "display_name": "Python 3"
    },
    "language_info": {
      "name": "python"
    }
  },
  "cells": [
    {
      "cell_type": "markdown",
      "metadata": {
        "id": "view-in-github",
        "colab_type": "text"
      },
      "source": [
        "<a href=\"https://colab.research.google.com/github/sangameshks/SkillovillaTraining/blob/main/Descriptive_Statistics.ipynb\" target=\"_parent\"><img src=\"https://colab.research.google.com/assets/colab-badge.svg\" alt=\"Open In Colab\"/></a>"
      ]
    },
    {
      "cell_type": "markdown",
      "source": [
        "# **What is Descriptive Statistics?**\n",
        "\n",
        "Descriptive statistics refers to a set of statistical measures and techniques used to summarize and describe the main features of a dataset. It provides a way to organize, analyze, and present data in a meaningful and concise manner. Descriptive statistics aim to provide a clear and understandable summary of the data, allowing researchers and analysts to gain insights and make informed decisions.\n",
        "\n",
        "Descriptive statistics can be classified into two main categories: measures of central tendency and measures of variability."
      ],
      "metadata": {
        "id": "U4epDB4CfrE4"
      }
    },
    {
      "cell_type": "markdown",
      "source": [
        "##**1. Measures of Central Tendency:**\n",
        "\n",
        "**Mean:** The arithmetic average of a set of values, calculated by summing all the values and dividing by the number of observations.\n",
        "\n",
        "**Median:** The middle value in a dataset when the values are arranged in ascending or descending order. It divides the data into two equal halves.\n",
        "\n",
        "**Mode:** The value or values that occur most frequently in a dataset."
      ],
      "metadata": {
        "id": "NjWriRYggk2R"
      }
    },
    {
      "cell_type": "markdown",
      "source": [
        "###**1.1 What is Mean?**\n",
        "\n",
        "The mean is a measure of central tendency in statistics that represents the average value of a set of numbers. It is also known as the arithmetic mean. The mean is calculated by summing up all the values in a dataset and then dividing the sum by the total number of values.\n",
        "\n",
        "Mathematically, the mean (denoted by μ or x̄) is calculated using the following formula:\n",
        "\n",
        "mean = sum of values / number of values\n",
        "\n",
        "In simpler terms, to find the mean, you add up all the values in a dataset and then divide the sum by the total number of values. The mean is a representative value that gives an indication of the typical value in the dataset.\n",
        "\n",
        "For example, let's say we have a dataset of exam scores: 70, 80, 90, 85, and 75. To find the mean score, we add up all the scores (70 + 80 + 90 + 85 + 75 = 400) and divide by the total number of scores (5). Therefore, the mean score is 400 / 5 = 80.\n",
        "\n",
        "The mean is widely used in statistics and is a fundamental concept in analyzing and summarizing data. However, it can be influenced by outliers or extreme values in the dataset, so it's important to consider other measures of central tendency, such as the median and mode, to have a more comprehensive understanding of the data."
      ],
      "metadata": {
        "id": "fkYcHrVOgwBI"
      }
    },
    {
      "cell_type": "markdown",
      "source": [
        "**How to impliment it on Python?**\n"
      ],
      "metadata": {
        "id": "sorvU6KYhB-4"
      }
    },
    {
      "cell_type": "code",
      "source": [
        "import pandas as pd\n",
        "import numpy as np\n",
        "\n",
        "# importing data\n",
        "df = pd.read_csv(\"https://raw.githubusercontent.com/sangameshks/HR-Attrition-Analytics/master/Data/WA_Fn-UseC_-HR-Employee-Attrition.csv\")"
      ],
      "metadata": {
        "id": "bXUPyE26hGyO"
      },
      "execution_count": null,
      "outputs": []
    },
    {
      "cell_type": "code",
      "source": [
        "# head\n",
        "df.head()"
      ],
      "metadata": {
        "colab": {
          "base_uri": "https://localhost:8080/",
          "height": 369
        },
        "id": "86vwdLrRhngC",
        "outputId": "f6dab343-b4d5-4731-d893-c2609414813d"
      },
      "execution_count": null,
      "outputs": [
        {
          "output_type": "execute_result",
          "data": {
            "text/plain": [
              "   Age Attrition     BusinessTravel  DailyRate              Department  \\\n",
              "0   41       Yes      Travel_Rarely       1102                   Sales   \n",
              "1   49        No  Travel_Frequently        279  Research & Development   \n",
              "2   37       Yes      Travel_Rarely       1373  Research & Development   \n",
              "3   33        No  Travel_Frequently       1392  Research & Development   \n",
              "4   27        No      Travel_Rarely        591  Research & Development   \n",
              "\n",
              "   DistanceFromHome  Education EducationField  EmployeeCount  EmployeeNumber  \\\n",
              "0                 1          2  Life Sciences              1               1   \n",
              "1                 8          1  Life Sciences              1               2   \n",
              "2                 2          2          Other              1               4   \n",
              "3                 3          4  Life Sciences              1               5   \n",
              "4                 2          1        Medical              1               7   \n",
              "\n",
              "   ...  RelationshipSatisfaction StandardHours  StockOptionLevel  \\\n",
              "0  ...                         1            80                 0   \n",
              "1  ...                         4            80                 1   \n",
              "2  ...                         2            80                 0   \n",
              "3  ...                         3            80                 0   \n",
              "4  ...                         4            80                 1   \n",
              "\n",
              "   TotalWorkingYears  TrainingTimesLastYear WorkLifeBalance  YearsAtCompany  \\\n",
              "0                  8                      0               1               6   \n",
              "1                 10                      3               3              10   \n",
              "2                  7                      3               3               0   \n",
              "3                  8                      3               3               8   \n",
              "4                  6                      3               3               2   \n",
              "\n",
              "  YearsInCurrentRole  YearsSinceLastPromotion  YearsWithCurrManager  \n",
              "0                  4                        0                     5  \n",
              "1                  7                        1                     7  \n",
              "2                  0                        0                     0  \n",
              "3                  7                        3                     0  \n",
              "4                  2                        2                     2  \n",
              "\n",
              "[5 rows x 35 columns]"
            ],
            "text/html": [
              "\n",
              "  <div id=\"df-58cb3698-4db0-4df9-a914-95de189e7458\">\n",
              "    <div class=\"colab-df-container\">\n",
              "      <div>\n",
              "<style scoped>\n",
              "    .dataframe tbody tr th:only-of-type {\n",
              "        vertical-align: middle;\n",
              "    }\n",
              "\n",
              "    .dataframe tbody tr th {\n",
              "        vertical-align: top;\n",
              "    }\n",
              "\n",
              "    .dataframe thead th {\n",
              "        text-align: right;\n",
              "    }\n",
              "</style>\n",
              "<table border=\"1\" class=\"dataframe\">\n",
              "  <thead>\n",
              "    <tr style=\"text-align: right;\">\n",
              "      <th></th>\n",
              "      <th>Age</th>\n",
              "      <th>Attrition</th>\n",
              "      <th>BusinessTravel</th>\n",
              "      <th>DailyRate</th>\n",
              "      <th>Department</th>\n",
              "      <th>DistanceFromHome</th>\n",
              "      <th>Education</th>\n",
              "      <th>EducationField</th>\n",
              "      <th>EmployeeCount</th>\n",
              "      <th>EmployeeNumber</th>\n",
              "      <th>...</th>\n",
              "      <th>RelationshipSatisfaction</th>\n",
              "      <th>StandardHours</th>\n",
              "      <th>StockOptionLevel</th>\n",
              "      <th>TotalWorkingYears</th>\n",
              "      <th>TrainingTimesLastYear</th>\n",
              "      <th>WorkLifeBalance</th>\n",
              "      <th>YearsAtCompany</th>\n",
              "      <th>YearsInCurrentRole</th>\n",
              "      <th>YearsSinceLastPromotion</th>\n",
              "      <th>YearsWithCurrManager</th>\n",
              "    </tr>\n",
              "  </thead>\n",
              "  <tbody>\n",
              "    <tr>\n",
              "      <th>0</th>\n",
              "      <td>41</td>\n",
              "      <td>Yes</td>\n",
              "      <td>Travel_Rarely</td>\n",
              "      <td>1102</td>\n",
              "      <td>Sales</td>\n",
              "      <td>1</td>\n",
              "      <td>2</td>\n",
              "      <td>Life Sciences</td>\n",
              "      <td>1</td>\n",
              "      <td>1</td>\n",
              "      <td>...</td>\n",
              "      <td>1</td>\n",
              "      <td>80</td>\n",
              "      <td>0</td>\n",
              "      <td>8</td>\n",
              "      <td>0</td>\n",
              "      <td>1</td>\n",
              "      <td>6</td>\n",
              "      <td>4</td>\n",
              "      <td>0</td>\n",
              "      <td>5</td>\n",
              "    </tr>\n",
              "    <tr>\n",
              "      <th>1</th>\n",
              "      <td>49</td>\n",
              "      <td>No</td>\n",
              "      <td>Travel_Frequently</td>\n",
              "      <td>279</td>\n",
              "      <td>Research &amp; Development</td>\n",
              "      <td>8</td>\n",
              "      <td>1</td>\n",
              "      <td>Life Sciences</td>\n",
              "      <td>1</td>\n",
              "      <td>2</td>\n",
              "      <td>...</td>\n",
              "      <td>4</td>\n",
              "      <td>80</td>\n",
              "      <td>1</td>\n",
              "      <td>10</td>\n",
              "      <td>3</td>\n",
              "      <td>3</td>\n",
              "      <td>10</td>\n",
              "      <td>7</td>\n",
              "      <td>1</td>\n",
              "      <td>7</td>\n",
              "    </tr>\n",
              "    <tr>\n",
              "      <th>2</th>\n",
              "      <td>37</td>\n",
              "      <td>Yes</td>\n",
              "      <td>Travel_Rarely</td>\n",
              "      <td>1373</td>\n",
              "      <td>Research &amp; Development</td>\n",
              "      <td>2</td>\n",
              "      <td>2</td>\n",
              "      <td>Other</td>\n",
              "      <td>1</td>\n",
              "      <td>4</td>\n",
              "      <td>...</td>\n",
              "      <td>2</td>\n",
              "      <td>80</td>\n",
              "      <td>0</td>\n",
              "      <td>7</td>\n",
              "      <td>3</td>\n",
              "      <td>3</td>\n",
              "      <td>0</td>\n",
              "      <td>0</td>\n",
              "      <td>0</td>\n",
              "      <td>0</td>\n",
              "    </tr>\n",
              "    <tr>\n",
              "      <th>3</th>\n",
              "      <td>33</td>\n",
              "      <td>No</td>\n",
              "      <td>Travel_Frequently</td>\n",
              "      <td>1392</td>\n",
              "      <td>Research &amp; Development</td>\n",
              "      <td>3</td>\n",
              "      <td>4</td>\n",
              "      <td>Life Sciences</td>\n",
              "      <td>1</td>\n",
              "      <td>5</td>\n",
              "      <td>...</td>\n",
              "      <td>3</td>\n",
              "      <td>80</td>\n",
              "      <td>0</td>\n",
              "      <td>8</td>\n",
              "      <td>3</td>\n",
              "      <td>3</td>\n",
              "      <td>8</td>\n",
              "      <td>7</td>\n",
              "      <td>3</td>\n",
              "      <td>0</td>\n",
              "    </tr>\n",
              "    <tr>\n",
              "      <th>4</th>\n",
              "      <td>27</td>\n",
              "      <td>No</td>\n",
              "      <td>Travel_Rarely</td>\n",
              "      <td>591</td>\n",
              "      <td>Research &amp; Development</td>\n",
              "      <td>2</td>\n",
              "      <td>1</td>\n",
              "      <td>Medical</td>\n",
              "      <td>1</td>\n",
              "      <td>7</td>\n",
              "      <td>...</td>\n",
              "      <td>4</td>\n",
              "      <td>80</td>\n",
              "      <td>1</td>\n",
              "      <td>6</td>\n",
              "      <td>3</td>\n",
              "      <td>3</td>\n",
              "      <td>2</td>\n",
              "      <td>2</td>\n",
              "      <td>2</td>\n",
              "      <td>2</td>\n",
              "    </tr>\n",
              "  </tbody>\n",
              "</table>\n",
              "<p>5 rows × 35 columns</p>\n",
              "</div>\n",
              "      <button class=\"colab-df-convert\" onclick=\"convertToInteractive('df-58cb3698-4db0-4df9-a914-95de189e7458')\"\n",
              "              title=\"Convert this dataframe to an interactive table.\"\n",
              "              style=\"display:none;\">\n",
              "        \n",
              "  <svg xmlns=\"http://www.w3.org/2000/svg\" height=\"24px\"viewBox=\"0 0 24 24\"\n",
              "       width=\"24px\">\n",
              "    <path d=\"M0 0h24v24H0V0z\" fill=\"none\"/>\n",
              "    <path d=\"M18.56 5.44l.94 2.06.94-2.06 2.06-.94-2.06-.94-.94-2.06-.94 2.06-2.06.94zm-11 1L8.5 8.5l.94-2.06 2.06-.94-2.06-.94L8.5 2.5l-.94 2.06-2.06.94zm10 10l.94 2.06.94-2.06 2.06-.94-2.06-.94-.94-2.06-.94 2.06-2.06.94z\"/><path d=\"M17.41 7.96l-1.37-1.37c-.4-.4-.92-.59-1.43-.59-.52 0-1.04.2-1.43.59L10.3 9.45l-7.72 7.72c-.78.78-.78 2.05 0 2.83L4 21.41c.39.39.9.59 1.41.59.51 0 1.02-.2 1.41-.59l7.78-7.78 2.81-2.81c.8-.78.8-2.07 0-2.86zM5.41 20L4 18.59l7.72-7.72 1.47 1.35L5.41 20z\"/>\n",
              "  </svg>\n",
              "      </button>\n",
              "      \n",
              "  <style>\n",
              "    .colab-df-container {\n",
              "      display:flex;\n",
              "      flex-wrap:wrap;\n",
              "      gap: 12px;\n",
              "    }\n",
              "\n",
              "    .colab-df-convert {\n",
              "      background-color: #E8F0FE;\n",
              "      border: none;\n",
              "      border-radius: 50%;\n",
              "      cursor: pointer;\n",
              "      display: none;\n",
              "      fill: #1967D2;\n",
              "      height: 32px;\n",
              "      padding: 0 0 0 0;\n",
              "      width: 32px;\n",
              "    }\n",
              "\n",
              "    .colab-df-convert:hover {\n",
              "      background-color: #E2EBFA;\n",
              "      box-shadow: 0px 1px 2px rgba(60, 64, 67, 0.3), 0px 1px 3px 1px rgba(60, 64, 67, 0.15);\n",
              "      fill: #174EA6;\n",
              "    }\n",
              "\n",
              "    [theme=dark] .colab-df-convert {\n",
              "      background-color: #3B4455;\n",
              "      fill: #D2E3FC;\n",
              "    }\n",
              "\n",
              "    [theme=dark] .colab-df-convert:hover {\n",
              "      background-color: #434B5C;\n",
              "      box-shadow: 0px 1px 3px 1px rgba(0, 0, 0, 0.15);\n",
              "      filter: drop-shadow(0px 1px 2px rgba(0, 0, 0, 0.3));\n",
              "      fill: #FFFFFF;\n",
              "    }\n",
              "  </style>\n",
              "\n",
              "      <script>\n",
              "        const buttonEl =\n",
              "          document.querySelector('#df-58cb3698-4db0-4df9-a914-95de189e7458 button.colab-df-convert');\n",
              "        buttonEl.style.display =\n",
              "          google.colab.kernel.accessAllowed ? 'block' : 'none';\n",
              "\n",
              "        async function convertToInteractive(key) {\n",
              "          const element = document.querySelector('#df-58cb3698-4db0-4df9-a914-95de189e7458');\n",
              "          const dataTable =\n",
              "            await google.colab.kernel.invokeFunction('convertToInteractive',\n",
              "                                                     [key], {});\n",
              "          if (!dataTable) return;\n",
              "\n",
              "          const docLinkHtml = 'Like what you see? Visit the ' +\n",
              "            '<a target=\"_blank\" href=https://colab.research.google.com/notebooks/data_table.ipynb>data table notebook</a>'\n",
              "            + ' to learn more about interactive tables.';\n",
              "          element.innerHTML = '';\n",
              "          dataTable['output_type'] = 'display_data';\n",
              "          await google.colab.output.renderOutput(dataTable, element);\n",
              "          const docLink = document.createElement('div');\n",
              "          docLink.innerHTML = docLinkHtml;\n",
              "          element.appendChild(docLink);\n",
              "        }\n",
              "      </script>\n",
              "    </div>\n",
              "  </div>\n",
              "  "
            ]
          },
          "metadata": {},
          "execution_count": 6
        }
      ]
    },
    {
      "cell_type": "code",
      "source": [
        "# Calculating Mean\n",
        "df['Age'].mean()"
      ],
      "metadata": {
        "colab": {
          "base_uri": "https://localhost:8080/"
        },
        "id": "wvm2c79CieOr",
        "outputId": "856ece84-0ef0-4ec8-dffe-fdb5091ec35c"
      },
      "execution_count": null,
      "outputs": [
        {
          "output_type": "execute_result",
          "data": {
            "text/plain": [
              "36.923809523809524"
            ]
          },
          "metadata": {},
          "execution_count": 7
        }
      ]
    },
    {
      "cell_type": "code",
      "source": [
        "\n",
        "# Calculate the mean age for Attrition\n",
        "Yes_mean_age = df.loc[df['Attrition'] == 'Yes', 'Age'].mean()\n",
        "No_mean_age = df.loc[df['Attrition'] == 'No', 'Age'].mean()\n",
        "\n",
        "# Print the mean ages\n",
        "print(\"Mean age of Yes:\", Yes_mean_age)\n",
        "print(\"Mean age of No:\", No_mean_age)"
      ],
      "metadata": {
        "colab": {
          "base_uri": "https://localhost:8080/"
        },
        "id": "ypvNL03Hiqqo",
        "outputId": "28d9a594-0f09-45c4-90fb-fe766143d29f"
      },
      "execution_count": null,
      "outputs": [
        {
          "output_type": "stream",
          "name": "stdout",
          "text": [
            "Mean age of Yes: 33.607594936708864\n",
            "Mean age of No: 37.561232765612324\n"
          ]
        }
      ]
    },
    {
      "cell_type": "markdown",
      "source": [
        "**Why Mean is important?**\n",
        "\n",
        "The mean has various applications in statistics and data analysis. Some of the key applications of the mean include:\n",
        "\n",
        "Data Summary: The mean is used to provide a concise summary of a dataset. It gives an overall idea of the average value and central tendency of the data. For example, the mean salary of employees in a company provides an overview of the average earning level.\n",
        "\n",
        "Data Comparison: The mean allows for comparisons between different groups or categories. By calculating the means of multiple groups, we can compare their average values and determine if there are any significant differences. For instance, comparing the mean test scores of students from different schools can provide insights into their performance.\n",
        "\n",
        "Forecasting and Predictions: In time series analysis, the mean can be used to calculate moving averages. Moving averages help in smoothing out fluctuations and identifying trends in data, which is useful for forecasting and making predictions.\n",
        "\n",
        "Quality Control: The mean is often used in quality control to monitor and ensure product or process performance. By calculating the mean of a specific parameter, such as dimensions or weights of products, deviations from the target mean can be detected, indicating potential quality issues.\n",
        "\n",
        "Statistical Inference: The mean is a key component in statistical inference, where it is used to estimate population parameters based on sample data. For example, the sample mean is used to estimate the population mean, and hypothesis tests and confidence intervals are constructed using the mean.\n",
        "\n",
        "Imputation of Missing Data: In some cases, the mean is used to impute missing values in a dataset. Missing values can be replaced with the mean value of the available data to maintain the overall distribution and characteristics of the dataset.\n",
        "\n",
        "These are just a few examples of how the mean is applied in various fields and contexts. The specific application of the mean depends on the nature of the data, the research question, and the analytical techniques employed."
      ],
      "metadata": {
        "id": "B5bYg8PO2APo"
      }
    },
    {
      "cell_type": "markdown",
      "source": [
        "###**1.2 What is Median?**\n",
        "\n",
        "The median is a measure of central tendency in statistics that represents the middle value of a dataset when the values are arranged in ascending or descending order. It divides the dataset into two equal halves, with half of the values falling below the median and half of the values falling above the median.\n",
        "\n",
        "To find the median:\n",
        "\n",
        "Arrange the values in the dataset in ascending or descending order.\n",
        "If the dataset has an odd number of values, the median is the middle value.\n",
        "If the dataset has an even number of values, the median is the average of the two middle values.\n",
        "The median is less influenced by extreme values or outliers compared to the mean, making it a useful measure of central tendency for skewed or non-normally distributed datasets.\n",
        "\n",
        "For example, let's consider the dataset of exam scores: 70, 80, 90, 85, 75. To find the median, we arrange the values in ascending order: 70, 75, 80, 85, 90. Since the dataset has an odd number of values, the middle value is 80. Therefore, the median score is 80.\n",
        "\n",
        "The median is particularly useful when dealing with ordinal data or when the data contains extreme values that may disproportionately affect the mean. It provides a robust measure of central tendency that is less influenced by outliers."
      ],
      "metadata": {
        "id": "ArA25cAH2Tp1"
      }
    },
    {
      "cell_type": "code",
      "source": [
        "# Calculate the median of the 'age' column\n",
        "median_age = df['Age'].median()\n",
        "\n",
        "# Print the median age\n",
        "print(\"Median age:\", median_age)"
      ],
      "metadata": {
        "colab": {
          "base_uri": "https://localhost:8080/"
        },
        "id": "hofonShx2utk",
        "outputId": "e030b4c7-47fd-443e-b758-077a7d39c335"
      },
      "execution_count": null,
      "outputs": [
        {
          "output_type": "stream",
          "name": "stdout",
          "text": [
            "Median age: 36.0\n"
          ]
        }
      ]
    },
    {
      "cell_type": "markdown",
      "source": [
        "**Application of Median**\n",
        "\n",
        "Median have a natural ordering but do not have a precise numerical interpretation. For example, in a survey rating scale from 1 to 5, the median can be used to determine the central tendency of the responses.\n",
        "\n",
        "Income and Wealth Distribution: Median income and median wealth are commonly used to describe the financial well-being of a population. The median is preferred in these cases as it gives a better indication of the typical income or wealth level, compared to the mean which can be heavily influenced by a few extremely high or low values.\n",
        "\n",
        "Survival Analysis: In survival analysis, the median survival time is a commonly used measure to estimate the time at which 50% of the subjects or participants experience the event of interest (e.g., death, failure, recovery).\n",
        "\n",
        "Data Exploration: The median can be used to explore and summarize a dataset. It provides insights into the central value around which the data tends to cluster. By comparing the median to other measures of central tendency (such as the mean), one can gain a better understanding of the distribution and characteristics of the data.\n",
        "\n",
        "Data Imputation: In cases where missing values are present in a dataset, the median can be used as a simple imputation method. Missing values can be replaced with the median value of the available data, ensuring that the imputed values are representative of the central tendency of the variable.\n",
        "\n",
        "These are just a few examples of how the median is applied in different fields and scenarios. The specific application of the median depends on the nature of the data, the research question, and the analytical techniques being employed."
      ],
      "metadata": {
        "id": "oj-_mUav2780"
      }
    },
    {
      "cell_type": "markdown",
      "source": [],
      "metadata": {
        "id": "c88ZsEsGfh6e"
      }
    },
    {
      "cell_type": "markdown",
      "source": [
        "### **1.3 Mode**\n",
        "\n",
        "The mode is a statistical measure that represents the most frequently occurring value or values in a dataset. In other words, the mode is the value(s) that appears with the highest frequency."
      ],
      "metadata": {
        "id": "5pBErTwvfkDm"
      }
    },
    {
      "cell_type": "markdown",
      "source": [
        "## **2. Measure of Dispersion**\n",
        "\n",
        "Measures of dispersion, also known as measures of variability or spread, are statistical measures that describe the extent to which data points in a dataset differ or vary from each other. They provide insights into the spread, distribution, and consistency of the data. Common measures of dispersion include:\n"
      ],
      "metadata": {
        "id": "wqeOsA_53KIF"
      }
    },
    {
      "cell_type": "markdown",
      "source": [
        "### **2.1 Range**\n",
        "\n",
        "The range is the simplest measure of dispersion and is calculated as the difference between the maximum and minimum values in a dataset. It provides a rough estimate of the spread of the data but is sensitive to outliers.\n"
      ],
      "metadata": {
        "id": "Rvd5Gs5ff3y8"
      }
    },
    {
      "cell_type": "code",
      "source": [
        "## Calculation of Range\n",
        "# Min\n",
        "min = df[\"Age\"].min()\n",
        "\n",
        "# Max\n",
        "max = df['Age'].max()\n",
        "\n",
        "# Calculate the range\n",
        "data_range = max - min"
      ],
      "metadata": {
        "id": "39tgG-lp3kcZ"
      },
      "execution_count": null,
      "outputs": []
    },
    {
      "cell_type": "code",
      "source": [
        "min"
      ],
      "metadata": {
        "colab": {
          "base_uri": "https://localhost:8080/"
        },
        "id": "EjAIMirs3lpO",
        "outputId": "a180a43e-3823-4b67-80cb-08e958304aaa"
      },
      "execution_count": null,
      "outputs": [
        {
          "output_type": "execute_result",
          "data": {
            "text/plain": [
              "18"
            ]
          },
          "metadata": {},
          "execution_count": 8
        }
      ]
    },
    {
      "cell_type": "markdown",
      "source": [
        "### **2.2. Variance**\n",
        "\n",
        "Variance measures the average squared deviation of each data point from the mean. It quantifies how far the data points are spread out from the mean. A larger variance indicates greater dispersion. However, variance is influenced by extreme values and is not in the same unit as the original data.\n"
      ],
      "metadata": {
        "id": "6d6vtc79gERc"
      }
    },
    {
      "cell_type": "code",
      "source": [
        "\n",
        "# Calculate the variance of the 'values' column\n",
        "variance = df['Age'].var()\n",
        "\n",
        "# Print the variance\n",
        "print(\"Variance of Age:\", variance)"
      ],
      "metadata": {
        "colab": {
          "base_uri": "https://localhost:8080/"
        },
        "id": "KTTDIS0m4RQM",
        "outputId": "693f0aa6-0a01-49d6-86e7-7c7cb69fa212"
      },
      "execution_count": null,
      "outputs": [
        {
          "output_type": "stream",
          "name": "stdout",
          "text": [
            "Variance of Age: 83.45504878602223\n"
          ]
        }
      ]
    },
    {
      "cell_type": "markdown",
      "source": [
        "### **2.3 Standard Deviation**\n",
        "\n",
        "The standard deviation is the square root of the variance. It provides a measure of dispersion that is in the same unit as the original data. Standard deviation is widely used as it is easily interpretable and follows the same distribution as the data.\n",
        "\n"
      ],
      "metadata": {
        "id": "iuXUqNrfgQyW"
      }
    },
    {
      "cell_type": "code",
      "source": [
        "# Calculate the standard deviation of the 'values' column\n",
        "std_deviation =  df['Age'].std()\n",
        "\n",
        "# Print the standard deviation\n",
        "print(\"Standard Deviation:\", std_deviation)"
      ],
      "metadata": {
        "colab": {
          "base_uri": "https://localhost:8080/"
        },
        "id": "ywa-p9bu4dmM",
        "outputId": "e8a7c53b-b047-4f70-88dd-f3ac2dfdeaca"
      },
      "execution_count": null,
      "outputs": [
        {
          "output_type": "stream",
          "name": "stdout",
          "text": [
            "Standard Deviation: 9.135373489136732\n"
          ]
        }
      ]
    },
    {
      "cell_type": "markdown",
      "source": [
        "### **2.4 Interquartile Range (IQR)**\n",
        "\n",
        "The IQR is the range between the first quartile (25th percentile) and the third quartile (75th percentile) of a dataset. It represents the spread of the middle 50% of the data and is robust to outliers.\n"
      ],
      "metadata": {
        "id": "jh8_1MVegb_H"
      }
    },
    {
      "cell_type": "code",
      "source": [
        "# Calculate the IQR\n",
        "q1 = np.percentile(df['Age'], 25)\n",
        "q3 = np.percentile(df['Age'], 75)\n",
        "iqr = q3 - q1\n",
        "\n",
        "# Print the IQR\n",
        "print(\"Interquartile Range (IQR):\", iqr)"
      ],
      "metadata": {
        "colab": {
          "base_uri": "https://localhost:8080/"
        },
        "id": "ANBKCLsM4tk-",
        "outputId": "c9e2b229-9152-409d-fe3f-d2375a43fca3"
      },
      "execution_count": null,
      "outputs": [
        {
          "output_type": "stream",
          "name": "stdout",
          "text": [
            "Interquartile Range (IQR): 13.0\n"
          ]
        }
      ]
    },
    {
      "cell_type": "markdown",
      "source": [
        "### **2.5 Coefficient of Variation (CV)**\n",
        "CV is the ratio of the standard deviation to the mean, expressed as a percentage. It is used to compare the relative variability between datasets with different means.\n",
        "\n",
        "These measures of dispersion provide valuable insights into the spread and variability of data points within a dataset. Depending on the nature of the data and the specific research question, different measures may be more appropriate to use."
      ],
      "metadata": {
        "id": "Cz71OZGzgoOE"
      }
    },
    {
      "cell_type": "code",
      "source": [
        "# Column Statistics using describe function\n",
        "df.describe()"
      ],
      "metadata": {
        "colab": {
          "base_uri": "https://localhost:8080/",
          "height": 393
        },
        "id": "yTDSoK2K406k",
        "outputId": "e7c359d0-aeb5-4791-83bc-810922b1a171"
      },
      "execution_count": null,
      "outputs": [
        {
          "output_type": "execute_result",
          "data": {
            "text/plain": [
              "               Age    DailyRate  DistanceFromHome    Education  EmployeeCount  \\\n",
              "count  1470.000000  1470.000000       1470.000000  1470.000000         1470.0   \n",
              "mean     36.923810   802.485714          9.192517     2.912925            1.0   \n",
              "std       9.135373   403.509100          8.106864     1.024165            0.0   \n",
              "min      18.000000   102.000000          1.000000     1.000000            1.0   \n",
              "25%      30.000000   465.000000          2.000000     2.000000            1.0   \n",
              "50%      36.000000   802.000000          7.000000     3.000000            1.0   \n",
              "75%      43.000000  1157.000000         14.000000     4.000000            1.0   \n",
              "max      60.000000  1499.000000         29.000000     5.000000            1.0   \n",
              "\n",
              "       EmployeeNumber  EnvironmentSatisfaction   HourlyRate  JobInvolvement  \\\n",
              "count     1470.000000              1470.000000  1470.000000     1470.000000   \n",
              "mean      1024.865306                 2.721769    65.891156        2.729932   \n",
              "std        602.024335                 1.093082    20.329428        0.711561   \n",
              "min          1.000000                 1.000000    30.000000        1.000000   \n",
              "25%        491.250000                 2.000000    48.000000        2.000000   \n",
              "50%       1020.500000                 3.000000    66.000000        3.000000   \n",
              "75%       1555.750000                 4.000000    83.750000        3.000000   \n",
              "max       2068.000000                 4.000000   100.000000        4.000000   \n",
              "\n",
              "          JobLevel  ...  RelationshipSatisfaction  StandardHours  \\\n",
              "count  1470.000000  ...               1470.000000         1470.0   \n",
              "mean      2.063946  ...                  2.712245           80.0   \n",
              "std       1.106940  ...                  1.081209            0.0   \n",
              "min       1.000000  ...                  1.000000           80.0   \n",
              "25%       1.000000  ...                  2.000000           80.0   \n",
              "50%       2.000000  ...                  3.000000           80.0   \n",
              "75%       3.000000  ...                  4.000000           80.0   \n",
              "max       5.000000  ...                  4.000000           80.0   \n",
              "\n",
              "       StockOptionLevel  TotalWorkingYears  TrainingTimesLastYear  \\\n",
              "count       1470.000000        1470.000000            1470.000000   \n",
              "mean           0.793878          11.279592               2.799320   \n",
              "std            0.852077           7.780782               1.289271   \n",
              "min            0.000000           0.000000               0.000000   \n",
              "25%            0.000000           6.000000               2.000000   \n",
              "50%            1.000000          10.000000               3.000000   \n",
              "75%            1.000000          15.000000               3.000000   \n",
              "max            3.000000          40.000000               6.000000   \n",
              "\n",
              "       WorkLifeBalance  YearsAtCompany  YearsInCurrentRole  \\\n",
              "count      1470.000000     1470.000000         1470.000000   \n",
              "mean          2.761224        7.008163            4.229252   \n",
              "std           0.706476        6.126525            3.623137   \n",
              "min           1.000000        0.000000            0.000000   \n",
              "25%           2.000000        3.000000            2.000000   \n",
              "50%           3.000000        5.000000            3.000000   \n",
              "75%           3.000000        9.000000            7.000000   \n",
              "max           4.000000       40.000000           18.000000   \n",
              "\n",
              "       YearsSinceLastPromotion  YearsWithCurrManager  \n",
              "count              1470.000000           1470.000000  \n",
              "mean                  2.187755              4.123129  \n",
              "std                   3.222430              3.568136  \n",
              "min                   0.000000              0.000000  \n",
              "25%                   0.000000              2.000000  \n",
              "50%                   1.000000              3.000000  \n",
              "75%                   3.000000              7.000000  \n",
              "max                  15.000000             17.000000  \n",
              "\n",
              "[8 rows x 26 columns]"
            ],
            "text/html": [
              "\n",
              "  <div id=\"df-c28431df-7119-415f-ba6b-f6bd3db35e88\">\n",
              "    <div class=\"colab-df-container\">\n",
              "      <div>\n",
              "<style scoped>\n",
              "    .dataframe tbody tr th:only-of-type {\n",
              "        vertical-align: middle;\n",
              "    }\n",
              "\n",
              "    .dataframe tbody tr th {\n",
              "        vertical-align: top;\n",
              "    }\n",
              "\n",
              "    .dataframe thead th {\n",
              "        text-align: right;\n",
              "    }\n",
              "</style>\n",
              "<table border=\"1\" class=\"dataframe\">\n",
              "  <thead>\n",
              "    <tr style=\"text-align: right;\">\n",
              "      <th></th>\n",
              "      <th>Age</th>\n",
              "      <th>DailyRate</th>\n",
              "      <th>DistanceFromHome</th>\n",
              "      <th>Education</th>\n",
              "      <th>EmployeeCount</th>\n",
              "      <th>EmployeeNumber</th>\n",
              "      <th>EnvironmentSatisfaction</th>\n",
              "      <th>HourlyRate</th>\n",
              "      <th>JobInvolvement</th>\n",
              "      <th>JobLevel</th>\n",
              "      <th>...</th>\n",
              "      <th>RelationshipSatisfaction</th>\n",
              "      <th>StandardHours</th>\n",
              "      <th>StockOptionLevel</th>\n",
              "      <th>TotalWorkingYears</th>\n",
              "      <th>TrainingTimesLastYear</th>\n",
              "      <th>WorkLifeBalance</th>\n",
              "      <th>YearsAtCompany</th>\n",
              "      <th>YearsInCurrentRole</th>\n",
              "      <th>YearsSinceLastPromotion</th>\n",
              "      <th>YearsWithCurrManager</th>\n",
              "    </tr>\n",
              "  </thead>\n",
              "  <tbody>\n",
              "    <tr>\n",
              "      <th>count</th>\n",
              "      <td>1470.000000</td>\n",
              "      <td>1470.000000</td>\n",
              "      <td>1470.000000</td>\n",
              "      <td>1470.000000</td>\n",
              "      <td>1470.0</td>\n",
              "      <td>1470.000000</td>\n",
              "      <td>1470.000000</td>\n",
              "      <td>1470.000000</td>\n",
              "      <td>1470.000000</td>\n",
              "      <td>1470.000000</td>\n",
              "      <td>...</td>\n",
              "      <td>1470.000000</td>\n",
              "      <td>1470.0</td>\n",
              "      <td>1470.000000</td>\n",
              "      <td>1470.000000</td>\n",
              "      <td>1470.000000</td>\n",
              "      <td>1470.000000</td>\n",
              "      <td>1470.000000</td>\n",
              "      <td>1470.000000</td>\n",
              "      <td>1470.000000</td>\n",
              "      <td>1470.000000</td>\n",
              "    </tr>\n",
              "    <tr>\n",
              "      <th>mean</th>\n",
              "      <td>36.923810</td>\n",
              "      <td>802.485714</td>\n",
              "      <td>9.192517</td>\n",
              "      <td>2.912925</td>\n",
              "      <td>1.0</td>\n",
              "      <td>1024.865306</td>\n",
              "      <td>2.721769</td>\n",
              "      <td>65.891156</td>\n",
              "      <td>2.729932</td>\n",
              "      <td>2.063946</td>\n",
              "      <td>...</td>\n",
              "      <td>2.712245</td>\n",
              "      <td>80.0</td>\n",
              "      <td>0.793878</td>\n",
              "      <td>11.279592</td>\n",
              "      <td>2.799320</td>\n",
              "      <td>2.761224</td>\n",
              "      <td>7.008163</td>\n",
              "      <td>4.229252</td>\n",
              "      <td>2.187755</td>\n",
              "      <td>4.123129</td>\n",
              "    </tr>\n",
              "    <tr>\n",
              "      <th>std</th>\n",
              "      <td>9.135373</td>\n",
              "      <td>403.509100</td>\n",
              "      <td>8.106864</td>\n",
              "      <td>1.024165</td>\n",
              "      <td>0.0</td>\n",
              "      <td>602.024335</td>\n",
              "      <td>1.093082</td>\n",
              "      <td>20.329428</td>\n",
              "      <td>0.711561</td>\n",
              "      <td>1.106940</td>\n",
              "      <td>...</td>\n",
              "      <td>1.081209</td>\n",
              "      <td>0.0</td>\n",
              "      <td>0.852077</td>\n",
              "      <td>7.780782</td>\n",
              "      <td>1.289271</td>\n",
              "      <td>0.706476</td>\n",
              "      <td>6.126525</td>\n",
              "      <td>3.623137</td>\n",
              "      <td>3.222430</td>\n",
              "      <td>3.568136</td>\n",
              "    </tr>\n",
              "    <tr>\n",
              "      <th>min</th>\n",
              "      <td>18.000000</td>\n",
              "      <td>102.000000</td>\n",
              "      <td>1.000000</td>\n",
              "      <td>1.000000</td>\n",
              "      <td>1.0</td>\n",
              "      <td>1.000000</td>\n",
              "      <td>1.000000</td>\n",
              "      <td>30.000000</td>\n",
              "      <td>1.000000</td>\n",
              "      <td>1.000000</td>\n",
              "      <td>...</td>\n",
              "      <td>1.000000</td>\n",
              "      <td>80.0</td>\n",
              "      <td>0.000000</td>\n",
              "      <td>0.000000</td>\n",
              "      <td>0.000000</td>\n",
              "      <td>1.000000</td>\n",
              "      <td>0.000000</td>\n",
              "      <td>0.000000</td>\n",
              "      <td>0.000000</td>\n",
              "      <td>0.000000</td>\n",
              "    </tr>\n",
              "    <tr>\n",
              "      <th>25%</th>\n",
              "      <td>30.000000</td>\n",
              "      <td>465.000000</td>\n",
              "      <td>2.000000</td>\n",
              "      <td>2.000000</td>\n",
              "      <td>1.0</td>\n",
              "      <td>491.250000</td>\n",
              "      <td>2.000000</td>\n",
              "      <td>48.000000</td>\n",
              "      <td>2.000000</td>\n",
              "      <td>1.000000</td>\n",
              "      <td>...</td>\n",
              "      <td>2.000000</td>\n",
              "      <td>80.0</td>\n",
              "      <td>0.000000</td>\n",
              "      <td>6.000000</td>\n",
              "      <td>2.000000</td>\n",
              "      <td>2.000000</td>\n",
              "      <td>3.000000</td>\n",
              "      <td>2.000000</td>\n",
              "      <td>0.000000</td>\n",
              "      <td>2.000000</td>\n",
              "    </tr>\n",
              "    <tr>\n",
              "      <th>50%</th>\n",
              "      <td>36.000000</td>\n",
              "      <td>802.000000</td>\n",
              "      <td>7.000000</td>\n",
              "      <td>3.000000</td>\n",
              "      <td>1.0</td>\n",
              "      <td>1020.500000</td>\n",
              "      <td>3.000000</td>\n",
              "      <td>66.000000</td>\n",
              "      <td>3.000000</td>\n",
              "      <td>2.000000</td>\n",
              "      <td>...</td>\n",
              "      <td>3.000000</td>\n",
              "      <td>80.0</td>\n",
              "      <td>1.000000</td>\n",
              "      <td>10.000000</td>\n",
              "      <td>3.000000</td>\n",
              "      <td>3.000000</td>\n",
              "      <td>5.000000</td>\n",
              "      <td>3.000000</td>\n",
              "      <td>1.000000</td>\n",
              "      <td>3.000000</td>\n",
              "    </tr>\n",
              "    <tr>\n",
              "      <th>75%</th>\n",
              "      <td>43.000000</td>\n",
              "      <td>1157.000000</td>\n",
              "      <td>14.000000</td>\n",
              "      <td>4.000000</td>\n",
              "      <td>1.0</td>\n",
              "      <td>1555.750000</td>\n",
              "      <td>4.000000</td>\n",
              "      <td>83.750000</td>\n",
              "      <td>3.000000</td>\n",
              "      <td>3.000000</td>\n",
              "      <td>...</td>\n",
              "      <td>4.000000</td>\n",
              "      <td>80.0</td>\n",
              "      <td>1.000000</td>\n",
              "      <td>15.000000</td>\n",
              "      <td>3.000000</td>\n",
              "      <td>3.000000</td>\n",
              "      <td>9.000000</td>\n",
              "      <td>7.000000</td>\n",
              "      <td>3.000000</td>\n",
              "      <td>7.000000</td>\n",
              "    </tr>\n",
              "    <tr>\n",
              "      <th>max</th>\n",
              "      <td>60.000000</td>\n",
              "      <td>1499.000000</td>\n",
              "      <td>29.000000</td>\n",
              "      <td>5.000000</td>\n",
              "      <td>1.0</td>\n",
              "      <td>2068.000000</td>\n",
              "      <td>4.000000</td>\n",
              "      <td>100.000000</td>\n",
              "      <td>4.000000</td>\n",
              "      <td>5.000000</td>\n",
              "      <td>...</td>\n",
              "      <td>4.000000</td>\n",
              "      <td>80.0</td>\n",
              "      <td>3.000000</td>\n",
              "      <td>40.000000</td>\n",
              "      <td>6.000000</td>\n",
              "      <td>4.000000</td>\n",
              "      <td>40.000000</td>\n",
              "      <td>18.000000</td>\n",
              "      <td>15.000000</td>\n",
              "      <td>17.000000</td>\n",
              "    </tr>\n",
              "  </tbody>\n",
              "</table>\n",
              "<p>8 rows × 26 columns</p>\n",
              "</div>\n",
              "      <button class=\"colab-df-convert\" onclick=\"convertToInteractive('df-c28431df-7119-415f-ba6b-f6bd3db35e88')\"\n",
              "              title=\"Convert this dataframe to an interactive table.\"\n",
              "              style=\"display:none;\">\n",
              "        \n",
              "  <svg xmlns=\"http://www.w3.org/2000/svg\" height=\"24px\"viewBox=\"0 0 24 24\"\n",
              "       width=\"24px\">\n",
              "    <path d=\"M0 0h24v24H0V0z\" fill=\"none\"/>\n",
              "    <path d=\"M18.56 5.44l.94 2.06.94-2.06 2.06-.94-2.06-.94-.94-2.06-.94 2.06-2.06.94zm-11 1L8.5 8.5l.94-2.06 2.06-.94-2.06-.94L8.5 2.5l-.94 2.06-2.06.94zm10 10l.94 2.06.94-2.06 2.06-.94-2.06-.94-.94-2.06-.94 2.06-2.06.94z\"/><path d=\"M17.41 7.96l-1.37-1.37c-.4-.4-.92-.59-1.43-.59-.52 0-1.04.2-1.43.59L10.3 9.45l-7.72 7.72c-.78.78-.78 2.05 0 2.83L4 21.41c.39.39.9.59 1.41.59.51 0 1.02-.2 1.41-.59l7.78-7.78 2.81-2.81c.8-.78.8-2.07 0-2.86zM5.41 20L4 18.59l7.72-7.72 1.47 1.35L5.41 20z\"/>\n",
              "  </svg>\n",
              "      </button>\n",
              "      \n",
              "  <style>\n",
              "    .colab-df-container {\n",
              "      display:flex;\n",
              "      flex-wrap:wrap;\n",
              "      gap: 12px;\n",
              "    }\n",
              "\n",
              "    .colab-df-convert {\n",
              "      background-color: #E8F0FE;\n",
              "      border: none;\n",
              "      border-radius: 50%;\n",
              "      cursor: pointer;\n",
              "      display: none;\n",
              "      fill: #1967D2;\n",
              "      height: 32px;\n",
              "      padding: 0 0 0 0;\n",
              "      width: 32px;\n",
              "    }\n",
              "\n",
              "    .colab-df-convert:hover {\n",
              "      background-color: #E2EBFA;\n",
              "      box-shadow: 0px 1px 2px rgba(60, 64, 67, 0.3), 0px 1px 3px 1px rgba(60, 64, 67, 0.15);\n",
              "      fill: #174EA6;\n",
              "    }\n",
              "\n",
              "    [theme=dark] .colab-df-convert {\n",
              "      background-color: #3B4455;\n",
              "      fill: #D2E3FC;\n",
              "    }\n",
              "\n",
              "    [theme=dark] .colab-df-convert:hover {\n",
              "      background-color: #434B5C;\n",
              "      box-shadow: 0px 1px 3px 1px rgba(0, 0, 0, 0.15);\n",
              "      filter: drop-shadow(0px 1px 2px rgba(0, 0, 0, 0.3));\n",
              "      fill: #FFFFFF;\n",
              "    }\n",
              "  </style>\n",
              "\n",
              "      <script>\n",
              "        const buttonEl =\n",
              "          document.querySelector('#df-c28431df-7119-415f-ba6b-f6bd3db35e88 button.colab-df-convert');\n",
              "        buttonEl.style.display =\n",
              "          google.colab.kernel.accessAllowed ? 'block' : 'none';\n",
              "\n",
              "        async function convertToInteractive(key) {\n",
              "          const element = document.querySelector('#df-c28431df-7119-415f-ba6b-f6bd3db35e88');\n",
              "          const dataTable =\n",
              "            await google.colab.kernel.invokeFunction('convertToInteractive',\n",
              "                                                     [key], {});\n",
              "          if (!dataTable) return;\n",
              "\n",
              "          const docLinkHtml = 'Like what you see? Visit the ' +\n",
              "            '<a target=\"_blank\" href=https://colab.research.google.com/notebooks/data_table.ipynb>data table notebook</a>'\n",
              "            + ' to learn more about interactive tables.';\n",
              "          element.innerHTML = '';\n",
              "          dataTable['output_type'] = 'display_data';\n",
              "          await google.colab.output.renderOutput(dataTable, element);\n",
              "          const docLink = document.createElement('div');\n",
              "          docLink.innerHTML = docLinkHtml;\n",
              "          element.appendChild(docLink);\n",
              "        }\n",
              "      </script>\n",
              "    </div>\n",
              "  </div>\n",
              "  "
            ]
          },
          "metadata": {},
          "execution_count": 20
        }
      ]
    },
    {
      "cell_type": "markdown",
      "source": [
        "## **3. Data Distribution**\n",
        "\n",
        "Data distribution refers to the pattern or shape that data points form when plotted on a graph. It provides insights into the underlying structure, characteristics, and behavior of the data. Understanding the distribution of data is crucial for various statistical analyses and decision-making processes. Here are some common types of data distributions:\n",
        "\n",
        "Understanding the data distribution is essential for selecting appropriate statistical techniques, making accurate predictions, and drawing meaningful insights from the data. Data visualization tools and statistical tests can be employed to explore and analyze the distribution of a dataset."
      ],
      "metadata": {
        "id": "nupEUu1-5NIt"
      }
    },
    {
      "cell_type": "markdown",
      "source": [
        "###**3.1 Histogram**\n",
        "\n",
        "A histogram is a graphical representation of data that displays the distribution of a dataset. It is commonly used to represent the frequency or count of data within specific intervals or bins. The x-axis of a histogram represents the range of values in the dataset, divided into intervals or bins, while the y-axis represents the frequency or count of data points falling within each bin."
      ],
      "metadata": {
        "id": "JxFR9qV3ZSa2"
      }
    },
    {
      "cell_type": "code",
      "source": [
        "#Creating histogram\n",
        "\n",
        "import matplotlib.pyplot as plt\n",
        "\n",
        "# Create a histogram\n",
        "plt.hist(df['Age'], bins=20, edgecolor='black')\n",
        "\n",
        "# Add labels and title\n",
        "plt.xlabel('Value')\n",
        "plt.ylabel('Frequency')\n",
        "plt.title('Histogram of Age')\n",
        "\n",
        "# Display the histogram\n",
        "plt.show()"
      ],
      "metadata": {
        "colab": {
          "base_uri": "https://localhost:8080/",
          "height": 472
        },
        "id": "Uqa-3H4m5Ll9",
        "outputId": "e6a8df63-0ecd-4a58-d02b-8c4cfd2b8192"
      },
      "execution_count": null,
      "outputs": [
        {
          "output_type": "display_data",
          "data": {
            "text/plain": [
              "<Figure size 640x480 with 1 Axes>"
            ],
            "image/png": "[encoded data removed]"
          },
          "metadata": {}
        }
      ]
    },
    {
      "cell_type": "markdown",
      "source": [
        "###**3.2 Frequency tables**\n",
        "\n",
        "\n",
        "A frequency table, also known as a frequency distribution table, is a way to organize and summarize categorical or numerical data by displaying the frequency or count of each category or value in a dataset. It provides a clear overview of how often each category or value occurs, allowing for easy analysis and interpretation."
      ],
      "metadata": {
        "id": "Od84zPVOaNWD"
      }
    },
    {
      "cell_type": "code",
      "source": [
        "#frequency Table for categorical column\n",
        "\n",
        "# Create a frequency table\n",
        "frequency_table = df['Attrition'].value_counts()\n",
        "\n",
        "# Print the frequency table\n",
        "print(frequency_table)"
      ],
      "metadata": {
        "colab": {
          "base_uri": "https://localhost:8080/"
        },
        "id": "HifZDnQB5zgo",
        "outputId": "08b3ddb9-4d3f-48c2-a7e6-bebdc73b0d9b"
      },
      "execution_count": null,
      "outputs": [
        {
          "output_type": "stream",
          "name": "stdout",
          "text": [
            "No     1233\n",
            "Yes     237\n",
            "Name: Attrition, dtype: int64\n"
          ]
        }
      ]
    },
    {
      "cell_type": "markdown",
      "source": [
        "###**3.3 Skewness and Kurtosis**\n",
        "\n",
        "\n",
        "Skewness and Kurtosis are statistical measures that provide insights into the shape and distribution of a dataset. They are often used to assess departures from normality and to understand the characteristics of the data distribution.\n",
        "\n",
        "Skewness:\n",
        "\n",
        "Skewness measures the asymmetry of a dataset's distribution. It quantifies the extent to which the data points are skewed to the left or right of the mean.\n",
        "A positive skewness indicates a longer or fatter tail on the right side of the distribution, with more values concentrated on the left. The distribution is said to be right-skewed or positively skewed.\n",
        "A negative skewness indicates a longer or fatter tail on the left side of the distribution, with more values concentrated on the right. The distribution is said to be left-skewed or negatively skewed.\n",
        "A skewness value of 0 indicates a symmetric distribution where the data is evenly distributed around the mean.\n",
        "\n",
        "Kurtosis:\n",
        "\n",
        "Kurtosis measures the \"tailedness\" of a dataset's distribution. It quantifies the extent to which the data points have outliers or extreme values compared to a normal distribution.\n",
        "Positive kurtosis (kurtosis > 3) indicates a distribution with heavy tails and a higher peak than the normal distribution. It has more outliers or extreme values.\n",
        "Negative kurtosis (kurtosis < 3) indicates a distribution with lighter tails and a flatter peak than the normal distribution. It has fewer outliers or extreme values.\n",
        "A kurtosis value of 3 corresponds to the normal distribution (referred to as mesokurtic).\n",
        "Skewness and kurtosis are commonly calculated using statistical libraries such as scipy.stats, numpy, or pandas in Python. These libraries provide functions like skew(), kurtosis(), or describe() to compute these measures.\n",
        "\n",
        "It's important to note that skewness and kurtosis alone do not indicate the presence of normality or the shape of the distribution. They serve as descriptive statistics to provide insights into the distributional properties of the data. Additional visualizations and statistical tests can be used to further analyze and interpret the data distribution."
      ],
      "metadata": {
        "id": "LjPJdRXN6HZY"
      }
    },
    {
      "cell_type": "markdown",
      "source": [
        "![image403.gif](data:image/gif;base64,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)"
      ],
      "metadata": {
        "id": "Um7cms6Iixi6"
      }
    },
    {
      "cell_type": "code",
      "source": [
        "df['Age'].skew()"
      ],
      "metadata": {
        "colab": {
          "base_uri": "https://localhost:8080/"
        },
        "id": "Q6FzVic_J6rV",
        "outputId": "15aa1e25-efbb-4e66-bee8-2bd39804d4a9"
      },
      "execution_count": null,
      "outputs": [
        {
          "output_type": "execute_result",
          "data": {
            "text/plain": [
              "0.4132863018563338"
            ]
          },
          "metadata": {},
          "execution_count": 23
        }
      ]
    },
    {
      "cell_type": "code",
      "source": [
        "df['Age'].kurtosis()"
      ],
      "metadata": {
        "colab": {
          "base_uri": "https://localhost:8080/"
        },
        "id": "D1Vw358RKCSS",
        "outputId": "796ed611-e640-4f35-aefd-e29335b0d905"
      },
      "execution_count": null,
      "outputs": [
        {
          "output_type": "execute_result",
          "data": {
            "text/plain": [
              "-0.4041451371872906"
            ]
          },
          "metadata": {},
          "execution_count": 24
        }
      ]
    },
    {
      "cell_type": "markdown",
      "source": [
        "### **3.4 Normal Distribution**\n",
        "\n",
        "A normal distribution, also known as a Gaussian distribution or bell curve, is a statistical distribution that is symmetric and characterized by a specific shape. It is often used in statistics to model various natural phenomena and is a fundamental concept in statistical analysis."
      ],
      "metadata": {
        "id": "yfjWg4kThBQj"
      }
    },
    {
      "cell_type": "markdown",
      "source": [
        "## **4. Descriptive statistics for categorical variables**\n",
        "\n",
        "It differ from those for numerical variables because categorical variables represent distinct categories or groups rather than numeric values.\n",
        "\n",
        "**4.1 Frequency counts**: Frequency counts refer to the process of counting the occurrences or frequency of specific elements within a dataset. It involves determining how many times a particular value or category appears in the data.\n",
        "\n",
        "**4.2 Proportion/Percentage**: Proportion or percentage represents the relative frequency of each category in relation to the total number of observations. It helps to understand the distribution of categories in the dataset.\n",
        "\n",
        "\n",
        "**4.3 Bar Chart**: A bar chart is a visual representation of the frequency or proportion of each category using bars of different lengths. It provides a visual summary of the distribution of categorical variables.\n",
        "\n",
        "\n",
        "These descriptive statistics and visualizations help in understanding and summarizing categorical variables. They provide insights into the distribution, frequencies, and relationships among different categories, enabling further analysis and decision-making. Python libraries such as pandas, matplotlib, and seaborn offer various functions and plotting capabilities to compute and visualize these descriptive statistics for categorical variables.\n",
        "\n",
        "\n",
        "\n",
        "\n",
        "\n",
        "\n"
      ],
      "metadata": {
        "id": "dvcM5wiK6nLl"
      }
    },
    {
      "cell_type": "code",
      "source": [
        "# Calculate frequencies\n",
        "frequency_table = df['Attrition'].value_counts()\n",
        "\n",
        "# Calculate proportions\n",
        "proportions = frequency_table / len(df)\n",
        "\n",
        "# Calculate percentages\n",
        "percentages = proportions * 100\n",
        "\n",
        "# Print the frequency table, proportions, and percentages\n",
        "print(\"Frequency Table:\")\n",
        "print(frequency_table)\n",
        "print(\"\\nProportions:\")\n",
        "print(proportions)\n",
        "print(\"\\nPercentages:\")\n",
        "print(percentages)"
      ],
      "metadata": {
        "colab": {
          "base_uri": "https://localhost:8080/"
        },
        "id": "sx1Q24x164rG",
        "outputId": "c46b7bce-22c1-4fcf-9272-58524b8ef22d"
      },
      "execution_count": null,
      "outputs": [
        {
          "output_type": "stream",
          "name": "stdout",
          "text": [
            "Frequency Table:\n",
            "No     1233\n",
            "Yes     237\n",
            "Name: Attrition, dtype: int64\n",
            "\n",
            "Proportions:\n",
            "No     0.838776\n",
            "Yes    0.161224\n",
            "Name: Attrition, dtype: float64\n",
            "\n",
            "Percentages:\n",
            "No     83.877551\n",
            "Yes    16.122449\n",
            "Name: Attrition, dtype: float64\n"
          ]
        }
      ]
    },
    {
      "cell_type": "code",
      "source": [
        "\n",
        "##Bar plot\n",
        "\n",
        "# Example data\n",
        "categories = ['A', 'B', 'C', 'D']\n",
        "frequencies = [10, 15, 12, 8]\n",
        "\n",
        "# Create a bar chart\n",
        "plt.bar(categories, frequencies)\n",
        "\n",
        "# Add labels and title\n",
        "plt.xlabel('Categories')\n",
        "plt.ylabel('Frequencies')\n",
        "plt.title('Bar Chart')\n",
        "\n",
        "# Display the bar chart\n",
        "plt.show()\n"
      ],
      "metadata": {
        "colab": {
          "base_uri": "https://localhost:8080/",
          "height": 472
        },
        "id": "56CH1y2Q7OoG",
        "outputId": "0a2fd260-a30a-4612-fe22-a591636f0e79"
      },
      "execution_count": null,
      "outputs": [
        {
          "output_type": "display_data",
          "data": {
            "text/plain": [
              "<Figure size 640x480 with 1 Axes>"
            ],
            "image/png": "[encoded data removed]"
          },
          "metadata": {}
        }
      ]
    },
    {
      "cell_type": "markdown",
      "source": [
        "## **5. Descriptive Statistics for Relationships Between variables**\n",
        "\n",
        "\n",
        "Descriptive statistics can also be used to analyze the relationships between variables. Here are some commonly used descriptive statistics for examining relationships between variables:\n",
        "\n",
        "\n",
        "\n",
        "Descriptive statistics for relationships between variables can provide insights into the strength, direction, and nature of the relationship. These statistics help in understanding the association, patterns, and dependencies between variables, facilitating further analysis and decision-making. Python libraries such as pandas, numpy, and matplotlib offer functions and plotting capabilities to compute and visualize these descriptive statistics for relationships between variables."
      ],
      "metadata": {
        "id": "BysPeBMV7_ZP"
      }
    },
    {
      "cell_type": "markdown",
      "source": [
        "\n",
        "\n",
        "###**5.1 Correlation Coefficient**\n",
        "\n",
        "The correlation coefficient is a statistical measure that quantifies the strength and direction of the linear relationship between two variables. It measures the degree to which the variables tend to move together or vary in relation to each other. The correlation coefficient ranges between -1 and 1, where:\n",
        "\n",
        "A correlation coefficient of -1 indicates a perfect negative correlation, meaning that as one variable increases, the other variable decreases linearly.\n",
        "A correlation coefficient of 0 indicates no linear relationship between the variables.\n",
        "A correlation coefficient of 1 indicates a perfect positive correlation, meaning that as one variable increases, the other variable increases linearly."
      ],
      "metadata": {
        "id": "IP6iex6acTV3"
      }
    },
    {
      "cell_type": "code",
      "source": [
        "import pandas as pd\n",
        "\n",
        "# Example dataset\n",
        "data = pd.DataFrame({'Column1': [1, 2, 3, 4, 5],\n",
        "                     'Column2': [10, 45, 2, 10, 15]})\n",
        "\n",
        "# Calculate the correlation\n",
        "correlation = data['Column1'].corr(data['Column2'])\n",
        "\n",
        "# Print the correlation\n",
        "print('Correlation:', correlation)"
      ],
      "metadata": {
        "colab": {
          "base_uri": "https://localhost:8080/"
        },
        "id": "gxbOvCCc8HFd",
        "outputId": "98277bdc-8cd0-461c-94de-971efac10eb6"
      },
      "execution_count": null,
      "outputs": [
        {
          "output_type": "stream",
          "name": "stdout",
          "text": [
            "Correlation: -0.23737505491672528\n"
          ]
        }
      ]
    },
    {
      "cell_type": "markdown",
      "source": [
        "### **5.2 Scatter Plot**\n",
        "\n",
        " A scatter plot is a graphical representation of the relationship between two continuous variables. It displays data points as individual dots on a two-dimensional plane, with one variable plotted on the x-axis and the other variable plotted on the y-axis. It helps to visualize the direction and strength of the relationship between the variables.\n"
      ],
      "metadata": {
        "id": "DNyO2_WMcecg"
      }
    },
    {
      "cell_type": "code",
      "source": [
        "import matplotlib.pyplot as plt\n",
        "\n",
        "# Example dataset\n",
        "data = pd.DataFrame({'Column1': [1, 2, 3, 4, 5],\n",
        "                     'Column2': [1, 2, 3,4, 5]})\n",
        "\n",
        "# Create a scatter plot\n",
        "plt.scatter(data['Column1'], data['Column2'])\n",
        "\n",
        "# Add labels and title\n",
        "plt.xlabel('X')\n",
        "plt.ylabel('Y')\n",
        "plt.title('Scatter Plot')\n",
        "\n",
        "# Display the scatter plot\n",
        "plt.show()"
      ],
      "metadata": {
        "colab": {
          "base_uri": "https://localhost:8080/",
          "height": 472
        },
        "id": "74VdNwha8Oxt",
        "outputId": "4d86b65c-830d-4d0e-c38f-72764c364da1"
      },
      "execution_count": null,
      "outputs": [
        {
          "output_type": "display_data",
          "data": {
            "text/plain": [
              "<Figure size 640x480 with 1 Axes>"
            ],
            "image/png": "[encoded data removed]"
          },
          "metadata": {}
        }
      ]
    },
    {
      "cell_type": "markdown",
      "source": [
        "### **5.3 Covariance**\n",
        "\n",
        " Covariance measures the extent to which two variables vary together. It indicates the direction of the relationship (positive or negative) but does not provide a standardized measure like correlation. A positive covariance indicates a positive relationship, a negative covariance indicates a negative relationship, and a covariance close to zero indicates no significant relationship."
      ],
      "metadata": {
        "id": "DL_2C11vcrSE"
      }
    },
    {
      "cell_type": "markdown",
      "source": [
        "### **5.4 Cross-tabulation**\n",
        "\n",
        " Cross-tabulation, also known as a contingency table, is a tabular summary that shows the distribution of two or more categorical variables simultaneously. It helps to identify patterns and relationships between variables by displaying the frequency or count of each combination of categories.\n"
      ],
      "metadata": {
        "id": "8jT_9u9mdJp6"
      }
    },
    {
      "cell_type": "code",
      "source": [
        "import pandas as pd\n",
        "\n",
        "# Example dataset\n",
        "data = pd.DataFrame({'Gender': ['Male', 'Female', 'Male', 'Female', 'Male'],\n",
        "                     'Color': ['Red', 'Blue', 'Red', 'Green', 'Blue']})\n",
        "\n",
        "# Create a cross-tabulation\n",
        "cross_table = pd.crosstab(df['Attrition'], df['BusinessTravel'])\n",
        "\n",
        "# Print the cross-table\n",
        "print(cross_table)"
      ],
      "metadata": {
        "colab": {
          "base_uri": "https://localhost:8080/"
        },
        "id": "cYoOAGYVM5aw",
        "outputId": "c76701b7-537b-4073-aeae-bc3b11193a7f"
      },
      "execution_count": null,
      "outputs": [
        {
          "output_type": "stream",
          "name": "stdout",
          "text": [
            "BusinessTravel  Non-Travel  Travel_Frequently  Travel_Rarely\n",
            "Attrition                                                   \n",
            "No                     138                208            887\n",
            "Yes                     12                 69            156\n"
          ]
        }
      ]
    },
    {
      "cell_type": "markdown",
      "source": [
        "## **6. Outliers and Data Cleaning**\n",
        "Outliners are data points that significantly deviate from the general pattern or distribution of the dataset. They can occur due to various reasons, such as measurement errors, data entry mistakes, or rare events. Outliers can have a significant impact on statistical analyses and modeling results, which is why it's important to identify and handle them appropriately.\n"
      ],
      "metadata": {
        "id": "-rpChYEx8dUo"
      }
    },
    {
      "cell_type": "markdown",
      "source": [
        "### **6.1 Identifying Outliners**\n",
        "\n",
        "Identifying outliers is an important step in data analysis and involves identifying data points that significantly deviate from the majority of the dataset. Outliers can be caused by various factors, such as measurement errors, data entry mistakes, or genuinely rare events. They can have a significant impact on statistical analysis and should be carefully examined to determine their cause and decide how to handle them.\n",
        "\n",
        "Here are some common approaches for identifying outliers:\n",
        "\n",
        "1. Visual Inspection: Plotting the data using visual tools such as scatter plots, box plots, or histograms can help identify outliers visually. Outliers often appear as data points that are distant from the main cluster or distribution of the data.\n",
        "\n",
        "2. Descriptive Statistics: Calculating basic descriptive statistics can provide insights into the distribution of the data. Measures such as mean, median, standard deviation, and range can help identify potential outliers. Data points that fall far outside the typical range or have extreme values compared to the rest of the dataset may be outliers.\n",
        "\n",
        "3. Z-Score or Standard Deviation Method: The z-score measures how many standard deviations a data point is away from the mean. Data points with z-scores above a certain threshold (e.g., 2 or 3) can be considered outliers. Similarly, data points that fall outside a specified number of standard deviations from the mean can be considered outliers.\n",
        "\n",
        "4. Box Plot or Interquartile Range (IQR) Method: Box plots display the distribution of data and can identify outliers based on the positions of the quartiles. Data points outside the upper or lower whiskers of the box plot, which are typically defined as 1.5 times the IQR (the range between the 25th and 75th percentiles), can be considered outliers.\n",
        "\n",
        "5. Domain Knowledge: Understanding the context of the data and the specific domain can help in identifying outliers. Sometimes, values that appear as outliers may be valid and meaningful within the given context. Expert knowledge can help distinguish between true outliers and data points that are genuinely representative of the phenomenon being studied."
      ],
      "metadata": {
        "id": "s1Xoy54XeA4_"
      }
    },
    {
      "cell_type": "markdown",
      "source": [
        "### **6.2 Dealing with Outliers**\n",
        "\n",
        "Dealing with outliers in data analysis depends on the specific circumstances, the nature of the data, and the goals of the analysis. Here are some common approaches for handling outliers:\n",
        "\n",
        "1. Investigate and Understand: Before deciding on any action, it's important to thoroughly investigate the outliers and understand their potential causes. Determine whether they are due to data entry errors, measurement errors, or genuine extreme values. Consult subject matter experts or domain knowledge to gain insights into the outliers.\n",
        "\n",
        "2. Remove the Outliers: In some cases, outliers may be due to errors or extreme values that are not representative of the underlying data distribution. If it's determined that the outliers are indeed erroneous or irrelevant to the analysis, they can be removed from the dataset. However, caution should be exercised when removing outliers, as it can significantly affect the analysis results and should be justified based on a solid understanding of the data and its context.\n",
        "\n",
        "3. Transform the Data: Instead of removing outliers, another approach is to transform the data using mathematical operations. This can help reduce the impact of outliers on the analysis while still retaining the information they provide. Common transformations include taking the logarithm, square root, or inverse of the values. Transformations can help normalize skewed data and make it more suitable for certain analyses.\n",
        "\n",
        "4. Winsorization or Trimming: Winsorization is a technique where outliers are replaced with values closer to the mean or a specified percentile of the data. This approach limits the impact of outliers while retaining their influence on the analysis. Trimming involves removing a specified percentage of the extreme values from the dataset, effectively reducing the influence of outliers.\n",
        "\n",
        "5. Separate Analysis: In some cases, it may be appropriate to conduct separate analyses, considering both the full dataset and a modified dataset with outliers removed or transformed. This allows for a comprehensive understanding of the data and analysis results under different scenarios.\n",
        "\n",
        "6. Robust Statistical Methods: Using robust statistical methods that are less sensitive to outliers can be an alternative approach. These methods, such as robust regression or robust estimators, are designed to handle outliers without heavily influencing the analysis results."
      ],
      "metadata": {
        "id": "CmNaNHgGeP0H"
      }
    },
    {
      "cell_type": "markdown",
      "source": [
        "### **6.3 Missing Data Handling**\n",
        "\n",
        "Handling missing data is an important aspect of data analysis, as missing values can impact the accuracy and reliability of the results. Here are some common approaches for handling missing data:\n",
        "\n",
        "1. Identify the Missing Data Pattern: Examine the pattern and nature of missing data. Determine whether the missing values are missing completely at random (MCAR), missing at random (MAR), or missing not at random (MNAR). Understanding the pattern can help in selecting appropriate handling techniques.\n",
        "\n",
        "2. Delete Missing Data: One straightforward approach is to remove any rows or columns with missing values from the dataset. However, this approach should be used with caution, as it can lead to a loss of information and potentially biased results, especially if the missing data is not random.\n",
        "\n",
        "3. Imputation: Imputation involves estimating or filling in missing values with substituted values. Common imputation techniques include:\n",
        "\n",
        "  * Mean/Median Imputation: Replace missing values with the mean or median of the available data for that variable. This method assumes that the missing values are missing completely at random (MCAR) and can introduce bias if data is not MCAR.\n",
        "\n",
        "   * Regression Imputation: Predict missing values using regression models based on other variables. This method assumes that the missing values have a relationship with other variables and can be predicted based on them.\n",
        "\n",
        "   * Multiple Imputation: This technique creates multiple plausible imputations for missing values using statistical models and combines the results. Multiple imputation takes into account the uncertainty associated with imputed values and provides more robust estimates.\n",
        "\n",
        "   * Hot-Deck Imputation: Replace missing values with values randomly selected from similar records in the dataset. This method assumes that records with similar characteristics will have similar values for the missing variable.\n",
        "\n",
        "   * Machine Learning Imputation: Utilize machine learning algorithms, such as k-nearest neighbors (KNN), to impute missing values based on the values of other variables in the dataset.\n",
        "\n",
        "4. Indicator Variable: Create an additional binary variable that indicates whether a value is missing for a particular observation. This approach allows the missingness to be considered as a separate category during analysis.\n",
        "\n",
        "5. Consider Missing Data Mechanism: If the missing data mechanism is suspected to be non-random (MNAR), additional techniques, such as sensitivity analysis or model-based methods, may be required to handle the missing values appropriately."
      ],
      "metadata": {
        "id": "6aTmLcaTeqXP"
      }
    },
    {
      "cell_type": "code",
      "source": [],
      "metadata": {
        "id": "QKteGWgQiOUP"
      },
      "execution_count": null,
      "outputs": []
    }
  ]
}