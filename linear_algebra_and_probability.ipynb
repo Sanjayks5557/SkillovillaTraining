{
  "cells": [
    {
      "cell_type": "markdown",
      "metadata": {
        "id": "view-in-github",
        "colab_type": "text"
      },
      "source": [
        "<a href=\"https://colab.research.google.com/github/sangameshks/SkillovillaTraining/blob/main/linear_algebra_and_probability.ipynb\" target=\"_parent\"><img src=\"https://colab.research.google.com/assets/colab-badge.svg\" alt=\"Open In Colab\"/></a>"
      ]
    },
    {
      "cell_type": "markdown",
      "id": "c6a984dd",
      "metadata": {
        "id": "c6a984dd"
      },
      "source": [
        "# **Pre-requisites for this session:**\n",
        "\n",
        "    1. Basic operations in python\n",
        "    2. Data types in Python\n",
        "    3. Numpy"
      ]
    },
    {
      "cell_type": "markdown",
      "id": "6b7fe250",
      "metadata": {
        "id": "6b7fe250"
      },
      "source": [
        "# Topics for Today:\n",
        "\n",
        "1. **Vectors**\n",
        "\n",
        "      \n",
        "2. **Metrices**\n",
        "\n",
        "\n",
        "3. **Probability.**\n",
        "      "
      ]
    },
    {
      "cell_type": "markdown",
      "id": "7db42757",
      "metadata": {
        "id": "7db42757"
      },
      "source": [
        "# Linear Algebra\n",
        "\n",
        "**Linear Algebra is a branch of mathematics that is extremely useful in data science and machine learning, it helps in the study of linear functions in vector spaces. Linear algebra is used in data preprocessing, data transformation, and model evaluation.**\n",
        "\n",
        "\n",
        "**Linear algebra is used in many different areas of data science, such as:**\n",
        "\n",
        "* **Data preprocessing**\n",
        "\n",
        "\n",
        "* **Data visualization**\n",
        "\n",
        "\n",
        "* **Machine learning**\n",
        "\n",
        "\n",
        "* **Natural language processing**\n",
        "\n",
        "\n",
        "* **Computer vision**"
      ]
    },
    {
      "cell_type": "markdown",
      "id": "a16ce1c4",
      "metadata": {
        "id": "a16ce1c4"
      },
      "source": [
        "# Vectors and Metrices\n",
        "\n",
        "**Vectors and matrices are the basic building blocks of linear algebra. They are used to represent data and to perform operations on data.**\n",
        "\n",
        "**Vectors:**\n",
        "\n",
        "   * **Vector is a mathematical object that has both magnitude and direction.**\n",
        "   \n",
        "   * **It can be represented as a list of numbers, where each number represents the magnitude of the vector in a particular direction.**\n",
        "   * **For example, the vector (1, 2, 3) represents a vector that has a magnitude of 3 and is pointing in the direction (1, 2, 3).**\n",
        "   \n",
        "\n",
        "**Metrices:**\n",
        "\n",
        "**A matrix is a rectangular array of numbers. It can be used to represent a system of linear equations, or to store data in a tabular format.**\n",
        "\n",
        "**For example,**\n",
        "\n",
        "[1 2 3]\n",
        "\n",
        "[4 5 6]\n",
        "\n",
        "[7 8 9]"
      ]
    },
    {
      "cell_type": "markdown",
      "id": "83fc5b02",
      "metadata": {
        "id": "83fc5b02"
      },
      "source": [
        "### Creation of Vectors\n",
        "\n",
        "**Python NumPy module is used to create a vector. We use numpy.array() method to create a one-dimensional array i.e. a vector.**\n",
        "\n",
        "**Syntax:**\n",
        "**numpy.array(list)**"
      ]
    },
    {
      "cell_type": "markdown",
      "id": "4cbb2c2b",
      "metadata": {
        "id": "4cbb2c2b"
      },
      "source": [
        "**Demo**\n",
        "\n",
        "**Question: How can a vector be created in Python using the list [10, 20, 30, 40, 50]?**"
      ]
    },
    {
      "cell_type": "code",
      "execution_count": null,
      "id": "996a8d6a",
      "metadata": {
        "id": "996a8d6a",
        "outputId": "2292f4af-c707-47b6-b863-c071bc7ccc00"
      },
      "outputs": [
        {
          "name": "stdout",
          "output_type": "stream",
          "text": [
            "Vector created from a list:\n",
            "[10 20 30 40 50]\n"
          ]
        }
      ],
      "source": [
        "# Example 1: Horizontal Vector\n",
        "import numpy as np\n",
        "\n",
        "lst = [10,20,30,40,50]\n",
        "\n",
        "vct = np.array(lst)\n",
        "\n",
        "print(\"Vector created from a list:\")\n",
        "print(vct)"
      ]
    },
    {
      "cell_type": "markdown",
      "id": "1239597a",
      "metadata": {
        "id": "1239597a"
      },
      "source": [
        "**Question: 2 Create a vertical vector from the list [10, 20, 30, 40, 50].**"
      ]
    },
    {
      "cell_type": "code",
      "execution_count": null,
      "id": "933ae855",
      "metadata": {
        "id": "933ae855",
        "outputId": "0c7badf8-b640-44c0-c2e1-e43033ba7dea"
      },
      "outputs": [
        {
          "name": "stdout",
          "output_type": "stream",
          "text": [
            "Vector created from a list:\n",
            "[[ 2]\n",
            " [ 4]\n",
            " [ 6]\n",
            " [10]]\n"
          ]
        }
      ],
      "source": [
        "# Example 2: Vertical Vector\n",
        "\n",
        "import numpy as np\n",
        "\n",
        "lst = [[2],\n",
        "        [4],\n",
        "        [6],\n",
        "          [10]]\n",
        "\n",
        "vct = np.array(lst)\n",
        "\n",
        "print(\"Vector created from a list:\")\n",
        "print(vct)"
      ]
    },
    {
      "cell_type": "markdown",
      "id": "2ee9747f",
      "metadata": {
        "id": "2ee9747f"
      },
      "source": [
        "## Scalar, Vector and Matrices"
      ]
    },
    {
      "cell_type": "markdown",
      "id": "19b0f159",
      "metadata": {
        "id": "19b0f159"
      },
      "source": [
        "![image-2.png](attachment:image-2.png)"
      ]
    },
    {
      "cell_type": "code",
      "execution_count": null,
      "id": "f37f4e9d",
      "metadata": {
        "id": "f37f4e9d",
        "outputId": "bcc2777a-ed2d-41b1-a1b3-09dbcfa58a05"
      },
      "outputs": [
        {
          "data": {
            "text/html": [
              "<div>\n",
              "<style scoped>\n",
              "    .dataframe tbody tr th:only-of-type {\n",
              "        vertical-align: middle;\n",
              "    }\n",
              "\n",
              "    .dataframe tbody tr th {\n",
              "        vertical-align: top;\n",
              "    }\n",
              "\n",
              "    .dataframe thead th {\n",
              "        text-align: right;\n",
              "    }\n",
              "</style>\n",
              "<table border=\"1\" class=\"dataframe\">\n",
              "  <thead>\n",
              "    <tr style=\"text-align: right;\">\n",
              "      <th></th>\n",
              "      <th>id</th>\n",
              "      <th>date</th>\n",
              "      <th>price</th>\n",
              "      <th>bedrooms</th>\n",
              "      <th>bathrooms</th>\n",
              "      <th>sqft_living</th>\n",
              "      <th>sqft_lot</th>\n",
              "      <th>floors</th>\n",
              "      <th>waterfront</th>\n",
              "      <th>view</th>\n",
              "      <th>...</th>\n",
              "      <th>grade</th>\n",
              "      <th>sqft_above</th>\n",
              "      <th>sqft_basement</th>\n",
              "      <th>yr_built</th>\n",
              "      <th>yr_renovated</th>\n",
              "      <th>zipcode</th>\n",
              "      <th>lat</th>\n",
              "      <th>long</th>\n",
              "      <th>sqft_living15</th>\n",
              "      <th>sqft_lot15</th>\n",
              "    </tr>\n",
              "  </thead>\n",
              "  <tbody>\n",
              "    <tr>\n",
              "      <th>0</th>\n",
              "      <td>7129300520</td>\n",
              "      <td>20141013T000000</td>\n",
              "      <td>221900.0</td>\n",
              "      <td>3</td>\n",
              "      <td>1.00</td>\n",
              "      <td>1180</td>\n",
              "      <td>5650</td>\n",
              "      <td>1.0</td>\n",
              "      <td>0</td>\n",
              "      <td>0</td>\n",
              "      <td>...</td>\n",
              "      <td>7</td>\n",
              "      <td>1180</td>\n",
              "      <td>0</td>\n",
              "      <td>1955</td>\n",
              "      <td>0</td>\n",
              "      <td>98178</td>\n",
              "      <td>47.5112</td>\n",
              "      <td>-122.257</td>\n",
              "      <td>1340</td>\n",
              "      <td>5650</td>\n",
              "    </tr>\n",
              "    <tr>\n",
              "      <th>1</th>\n",
              "      <td>6414100192</td>\n",
              "      <td>20141209T000000</td>\n",
              "      <td>538000.0</td>\n",
              "      <td>3</td>\n",
              "      <td>2.25</td>\n",
              "      <td>2570</td>\n",
              "      <td>7242</td>\n",
              "      <td>2.0</td>\n",
              "      <td>0</td>\n",
              "      <td>0</td>\n",
              "      <td>...</td>\n",
              "      <td>7</td>\n",
              "      <td>2170</td>\n",
              "      <td>400</td>\n",
              "      <td>1951</td>\n",
              "      <td>1991</td>\n",
              "      <td>98125</td>\n",
              "      <td>47.7210</td>\n",
              "      <td>-122.319</td>\n",
              "      <td>1690</td>\n",
              "      <td>7639</td>\n",
              "    </tr>\n",
              "    <tr>\n",
              "      <th>2</th>\n",
              "      <td>5631500400</td>\n",
              "      <td>20150225T000000</td>\n",
              "      <td>180000.0</td>\n",
              "      <td>2</td>\n",
              "      <td>1.00</td>\n",
              "      <td>770</td>\n",
              "      <td>10000</td>\n",
              "      <td>1.0</td>\n",
              "      <td>0</td>\n",
              "      <td>0</td>\n",
              "      <td>...</td>\n",
              "      <td>6</td>\n",
              "      <td>770</td>\n",
              "      <td>0</td>\n",
              "      <td>1933</td>\n",
              "      <td>0</td>\n",
              "      <td>98028</td>\n",
              "      <td>47.7379</td>\n",
              "      <td>-122.233</td>\n",
              "      <td>2720</td>\n",
              "      <td>8062</td>\n",
              "    </tr>\n",
              "    <tr>\n",
              "      <th>3</th>\n",
              "      <td>2487200875</td>\n",
              "      <td>20141209T000000</td>\n",
              "      <td>604000.0</td>\n",
              "      <td>4</td>\n",
              "      <td>3.00</td>\n",
              "      <td>1960</td>\n",
              "      <td>5000</td>\n",
              "      <td>1.0</td>\n",
              "      <td>0</td>\n",
              "      <td>0</td>\n",
              "      <td>...</td>\n",
              "      <td>7</td>\n",
              "      <td>1050</td>\n",
              "      <td>910</td>\n",
              "      <td>1965</td>\n",
              "      <td>0</td>\n",
              "      <td>98136</td>\n",
              "      <td>47.5208</td>\n",
              "      <td>-122.393</td>\n",
              "      <td>1360</td>\n",
              "      <td>5000</td>\n",
              "    </tr>\n",
              "    <tr>\n",
              "      <th>4</th>\n",
              "      <td>1954400510</td>\n",
              "      <td>20150218T000000</td>\n",
              "      <td>510000.0</td>\n",
              "      <td>3</td>\n",
              "      <td>2.00</td>\n",
              "      <td>1680</td>\n",
              "      <td>8080</td>\n",
              "      <td>1.0</td>\n",
              "      <td>0</td>\n",
              "      <td>0</td>\n",
              "      <td>...</td>\n",
              "      <td>8</td>\n",
              "      <td>1680</td>\n",
              "      <td>0</td>\n",
              "      <td>1987</td>\n",
              "      <td>0</td>\n",
              "      <td>98074</td>\n",
              "      <td>47.6168</td>\n",
              "      <td>-122.045</td>\n",
              "      <td>1800</td>\n",
              "      <td>7503</td>\n",
              "    </tr>\n",
              "  </tbody>\n",
              "</table>\n",
              "<p>5 rows × 21 columns</p>\n",
              "</div>"
            ],
            "text/plain": [
              "           id             date     price  bedrooms  bathrooms  sqft_living  \\\n",
              "0  7129300520  20141013T000000  221900.0         3       1.00         1180   \n",
              "1  6414100192  20141209T000000  538000.0         3       2.25         2570   \n",
              "2  5631500400  20150225T000000  180000.0         2       1.00          770   \n",
              "3  2487200875  20141209T000000  604000.0         4       3.00         1960   \n",
              "4  1954400510  20150218T000000  510000.0         3       2.00         1680   \n",
              "\n",
              "   sqft_lot  floors  waterfront  view  ...  grade  sqft_above  sqft_basement  \\\n",
              "0      5650     1.0           0     0  ...      7        1180              0   \n",
              "1      7242     2.0           0     0  ...      7        2170            400   \n",
              "2     10000     1.0           0     0  ...      6         770              0   \n",
              "3      5000     1.0           0     0  ...      7        1050            910   \n",
              "4      8080     1.0           0     0  ...      8        1680              0   \n",
              "\n",
              "   yr_built  yr_renovated  zipcode      lat     long  sqft_living15  \\\n",
              "0      1955             0    98178  47.5112 -122.257           1340   \n",
              "1      1951          1991    98125  47.7210 -122.319           1690   \n",
              "2      1933             0    98028  47.7379 -122.233           2720   \n",
              "3      1965             0    98136  47.5208 -122.393           1360   \n",
              "4      1987             0    98074  47.6168 -122.045           1800   \n",
              "\n",
              "   sqft_lot15  \n",
              "0        5650  \n",
              "1        7639  \n",
              "2        8062  \n",
              "3        5000  \n",
              "4        7503  \n",
              "\n",
              "[5 rows x 21 columns]"
            ]
          },
          "execution_count": 3,
          "metadata": {},
          "output_type": "execute_result"
        }
      ],
      "source": [
        "# creating a dataset\n",
        "import numpy as np\n",
        "import pandas as pd\n",
        "df = pd.read_csv(\"C:/Users/DELL/Desktop/lab remake/m9/Untitled Folder/kc_house_data.csv\")\n",
        "df.head()"
      ]
    },
    {
      "cell_type": "code",
      "execution_count": null,
      "id": "4c4c0934",
      "metadata": {
        "id": "4c4c0934",
        "outputId": "98a34bee-9345-4f7e-b505-eabde26dc92c"
      },
      "outputs": [
        {
          "data": {
            "text/html": [
              "<div>\n",
              "<style scoped>\n",
              "    .dataframe tbody tr th:only-of-type {\n",
              "        vertical-align: middle;\n",
              "    }\n",
              "\n",
              "    .dataframe tbody tr th {\n",
              "        vertical-align: top;\n",
              "    }\n",
              "\n",
              "    .dataframe thead th {\n",
              "        text-align: right;\n",
              "    }\n",
              "</style>\n",
              "<table border=\"1\" class=\"dataframe\">\n",
              "  <thead>\n",
              "    <tr style=\"text-align: right;\">\n",
              "      <th></th>\n",
              "      <th>id</th>\n",
              "      <th>date</th>\n",
              "      <th>price</th>\n",
              "      <th>bedrooms</th>\n",
              "      <th>bathrooms</th>\n",
              "      <th>sqft_living</th>\n",
              "      <th>sqft_lot</th>\n",
              "      <th>floors</th>\n",
              "      <th>waterfront</th>\n",
              "      <th>view</th>\n",
              "      <th>...</th>\n",
              "      <th>grade</th>\n",
              "      <th>sqft_above</th>\n",
              "      <th>sqft_basement</th>\n",
              "      <th>yr_built</th>\n",
              "      <th>yr_renovated</th>\n",
              "      <th>zipcode</th>\n",
              "      <th>lat</th>\n",
              "      <th>long</th>\n",
              "      <th>sqft_living15</th>\n",
              "      <th>sqft_lot15</th>\n",
              "    </tr>\n",
              "  </thead>\n",
              "  <tbody>\n",
              "    <tr>\n",
              "      <th>0</th>\n",
              "      <td>7129300520</td>\n",
              "      <td>20141013T000000</td>\n",
              "      <td>221900.0</td>\n",
              "      <td>3</td>\n",
              "      <td>1.0</td>\n",
              "      <td>1180</td>\n",
              "      <td>5650</td>\n",
              "      <td>1.0</td>\n",
              "      <td>0</td>\n",
              "      <td>0</td>\n",
              "      <td>...</td>\n",
              "      <td>7</td>\n",
              "      <td>1180</td>\n",
              "      <td>0</td>\n",
              "      <td>1955</td>\n",
              "      <td>0</td>\n",
              "      <td>98178</td>\n",
              "      <td>47.5112</td>\n",
              "      <td>-122.257</td>\n",
              "      <td>1340</td>\n",
              "      <td>5650</td>\n",
              "    </tr>\n",
              "  </tbody>\n",
              "</table>\n",
              "<p>1 rows × 21 columns</p>\n",
              "</div>"
            ],
            "text/plain": [
              "           id             date     price  bedrooms  bathrooms  sqft_living  \\\n",
              "0  7129300520  20141013T000000  221900.0         3        1.0         1180   \n",
              "\n",
              "   sqft_lot  floors  waterfront  view  ...  grade  sqft_above  sqft_basement  \\\n",
              "0      5650     1.0           0     0  ...      7        1180              0   \n",
              "\n",
              "   yr_built  yr_renovated  zipcode      lat     long  sqft_living15  \\\n",
              "0      1955             0    98178  47.5112 -122.257           1340   \n",
              "\n",
              "   sqft_lot15  \n",
              "0        5650  \n",
              "\n",
              "[1 rows x 21 columns]"
            ]
          },
          "execution_count": 4,
          "metadata": {},
          "output_type": "execute_result"
        }
      ],
      "source": [
        "df.iloc[[0]]"
      ]
    },
    {
      "cell_type": "markdown",
      "id": "c5f58e01",
      "metadata": {
        "id": "c5f58e01"
      },
      "source": [
        "#### **Scalar:**\n",
        "\n",
        "**Scalars are basically just normal real numbers. We can think of them like any regular value we use. Any single value from our dataset would represent a scalar.**\n",
        "\n",
        "**For example: In the dataset the number of bedrooms in our house price data, for example, would be a scalar. If we only used one feature as an input from our house price data, then we could represent that as a scalar value.**"
      ]
    },
    {
      "cell_type": "code",
      "execution_count": null,
      "id": "db25a0c0",
      "metadata": {
        "id": "db25a0c0",
        "outputId": "55333a7a-c401-4589-a3aa-8a132e5b2ff4"
      },
      "outputs": [
        {
          "name": "stdout",
          "output_type": "stream",
          "text": [
            "3\n"
          ]
        }
      ],
      "source": [
        "print(df['bedrooms'].values[0])"
      ]
    },
    {
      "cell_type": "markdown",
      "id": "c6999438",
      "metadata": {
        "id": "c6999438"
      },
      "source": [
        "#### **Vectors:**\n",
        "\n",
        "* **There are many factors that can affect the price of a house, such as the total square footage, the number of bedrooms and bathrooms, the location, and the condition of the house.**\n",
        "\n",
        "* **To represent multiple features in house price data, we can use a vector. A vector is a 1-D data structure that can hold multiple values.**\n",
        "\n",
        "* **For example, we could create a vector to represent the total square footage, the number of bedrooms, and the number of bathrooms of a house. This vector would have three elements, one for each feature. We can then pass this vector to a machine learning model to predict the price of the house.**"
      ]
    },
    {
      "cell_type": "code",
      "execution_count": null,
      "id": "36aa2e10",
      "metadata": {
        "id": "36aa2e10",
        "outputId": "bb68231a-6477-4c42-d55b-e4177328a453"
      },
      "outputs": [
        {
          "name": "stdout",
          "output_type": "stream",
          "text": [
            "[[   3 5650]]\n"
          ]
        }
      ],
      "source": [
        "# This is a numpy row vector\n",
        "print(df[[\"bedrooms\", \"sqft_lot\"]].values[:1])"
      ]
    },
    {
      "cell_type": "markdown",
      "id": "daa6fc8d",
      "metadata": {
        "id": "daa6fc8d"
      },
      "source": [
        "#### **Matrices**\n",
        "\n",
        "* **So far, we have only looked at the first house in our dataset. However, what if we need to pass in batches of multiple houses, with their bedroom and square foot/meter values? This is where matrices come in.**\n",
        "\n",
        "* **A matrix is a 2-D data structure, where the two dimensions refer to the number of rows and columns.**\n",
        "\n",
        "* **For example, if we have a dataset of 10 houses, we could represent each house as a row in a matrix. The columns of the matrix would represent the features of each house, such as the number of bedrooms, the square footage, and the price.**\n",
        "\n",
        "* **Here is an example of how we could represent the features of 10 houses in a matrix:**"
      ]
    },
    {
      "cell_type": "code",
      "execution_count": null,
      "id": "e353cdd6",
      "metadata": {
        "id": "e353cdd6",
        "outputId": "6ce2c58a-4efa-45e6-a05e-c99c1508add6"
      },
      "outputs": [
        {
          "name": "stdout",
          "output_type": "stream",
          "text": [
            "[[   3 5650]\n",
            " [   3 7242]]\n"
          ]
        }
      ],
      "source": [
        "print(df[[\"bedrooms\", \"sqft_lot\"]].values[:2])"
      ]
    },
    {
      "cell_type": "markdown",
      "id": "c2e47b21",
      "metadata": {
        "id": "c2e47b21"
      },
      "source": [
        "**Demo**"
      ]
    },
    {
      "cell_type": "code",
      "execution_count": null,
      "id": "cb000be3",
      "metadata": {
        "id": "cb000be3"
      },
      "outputs": [],
      "source": [
        "# Data\n",
        "\n",
        "id =[0,1,2,3,4,5,6,7,8]\n",
        "Sqft_living = [1500,2000,2500,3000,3500,4000,4500,5000,5500]\n",
        "Bathroom =[3,4,5,6,7,8,9,10,11]\n",
        "Bedroom = [2,3,4,5,6,7,8,9,10]\n",
        "Price = [2,00,000,3,00,000,4,00,000,5,00,000,6,00,000,7,00,000,8,00,000,9,00,000,10,00,000]"
      ]
    },
    {
      "cell_type": "markdown",
      "id": "a2a9ae05",
      "metadata": {
        "id": "a2a9ae05"
      },
      "source": [
        "#### **Question: 1**\n",
        "\n",
        "**Create a scalar to access the element in the dataset that corresponds to the first record of the \"bathroom\" column.**"
      ]
    },
    {
      "cell_type": "code",
      "execution_count": null,
      "id": "2f398efe",
      "metadata": {
        "id": "2f398efe",
        "outputId": "5a8acd4d-84c7-45b7-8f74-a147d48c2a48"
      },
      "outputs": [
        {
          "data": {
            "text/plain": [
              "3"
            ]
          },
          "execution_count": 12,
          "metadata": {},
          "output_type": "execute_result"
        }
      ],
      "source": [
        "price = Bathroom[0]\n",
        "price"
      ]
    },
    {
      "cell_type": "markdown",
      "id": "6ce93ed8",
      "metadata": {
        "id": "6ce93ed8"
      },
      "source": [
        "#### **Question :2**\n",
        "\n",
        "**Create a Vector to access the elements in the dataset that correspond to the \"sqft_living\", \"bathrooms\", and \"bedrooms\" columns.**"
      ]
    },
    {
      "cell_type": "code",
      "execution_count": null,
      "id": "5fd710fe",
      "metadata": {
        "id": "5fd710fe",
        "outputId": "0f8f3475-8968-45a0-ea02-1a0005585c23"
      },
      "outputs": [
        {
          "name": "stdout",
          "output_type": "stream",
          "text": [
            "[   3    2 1500]\n"
          ]
        }
      ],
      "source": [
        "import numpy as np\n",
        "\n",
        "# Create a list of the number of  Bathroom, Bedroom, square footage\n",
        "house_features = [3,2,1500]\n",
        "\n",
        "# Convert the list to a NumPy array\n",
        "house_features_array = np.array(house_features)\n",
        "\n",
        "# Print the list of house features\n",
        "print(house_features_array)\n"
      ]
    },
    {
      "cell_type": "markdown",
      "id": "efcdf214",
      "metadata": {
        "id": "efcdf214"
      },
      "source": [
        "**Question: 3**\n",
        "\n",
        "**Given the following list of house features, create a matrix with four columns: bathrooms, bedrooms, square footage, and price. The matrix should have four rows, one for each house in the list.**"
      ]
    },
    {
      "cell_type": "code",
      "execution_count": null,
      "id": "12323b9a",
      "metadata": {
        "id": "12323b9a",
        "outputId": "f8bc038a-be31-4899-c965-b69b3e71d26d"
      },
      "outputs": [
        {
          "name": "stdout",
          "output_type": "stream",
          "text": [
            "[[     3      2   1500 200000]\n",
            " [     4      3   2000 300000]\n",
            " [     5      4   2500 400000]\n",
            " [     6      5   3000 500000]]\n"
          ]
        }
      ],
      "source": [
        "import numpy as np\n",
        "\n",
        "# Create a list of the number of  Bathroom, Bedroom, square footage\n",
        "house_features = [3,2,1500,200000],[4,3,2000,300000],[5,4,2500,400000],[6,5,3000,500000]\n",
        "\n",
        "# Convert the list to a NumPy array\n",
        "house_features_array = np.array(house_features)\n",
        "\n",
        "# Print the list of house features\n",
        "print(house_features_array)"
      ]
    },
    {
      "cell_type": "markdown",
      "id": "1cda04ee",
      "metadata": {
        "id": "1cda04ee"
      },
      "source": [
        "### **Practice Time**"
      ]
    },
    {
      "cell_type": "markdown",
      "id": "132ca6ae",
      "metadata": {
        "id": "132ca6ae"
      },
      "source": [
        "**Question: 1 Given a list of bedrooms consisting of 3 bedrooms, 2 bedrooms, and 1 bedroom, represent the number of bedrooms as a single number or in scalar format.**"
      ]
    },
    {
      "cell_type": "code",
      "execution_count": null,
      "id": "16bfe608",
      "metadata": {
        "id": "16bfe608",
        "outputId": "ce8fc4e3-2baa-4368-e525-9b512e3e0d13"
      },
      "outputs": [
        {
          "name": "stdout",
          "output_type": "stream",
          "text": [
            "3\n"
          ]
        }
      ],
      "source": [
        "import numpy as np\n",
        "\n",
        "# Create a list of the number of bedrooms in a house\n",
        "bedrooms = [3, 2, 1]\n",
        "\n",
        "# Convert the list to a NumPy array\n",
        "bedrooms_array = np.array(bedrooms)\n",
        "\n",
        "# Print the number of bedrooms in the first house\n",
        "print(bedrooms_array[0])\n"
      ]
    },
    {
      "cell_type": "markdown",
      "id": "61e31f47",
      "metadata": {
        "id": "61e31f47"
      },
      "source": [
        "**Question: 2**\n",
        "**Given a list of bedroom consisting of 3 bedroom, 2 bathroom and square foot which is 1500, represent the number of bedroom, bathroom and sqaure foot as a vector.**"
      ]
    },
    {
      "cell_type": "code",
      "execution_count": null,
      "id": "d789a26e",
      "metadata": {
        "id": "d789a26e",
        "outputId": "e78e9e80-2d98-48c2-da9a-a10fbb348cdd"
      },
      "outputs": [
        {
          "name": "stdout",
          "output_type": "stream",
          "text": [
            "[   3    2 1500]\n"
          ]
        }
      ],
      "source": [
        "import numpy as np\n",
        "\n",
        "# Create a list of the number of bedrooms, bathrooms, and square footage of a house\n",
        "house_features = [3, 2, 1500]\n",
        "\n",
        "# Convert the list to a NumPy array\n",
        "house_features_array = np.array(house_features)\n",
        "\n",
        "# Print the list of house features\n",
        "print(house_features_array)\n"
      ]
    },
    {
      "cell_type": "markdown",
      "id": "0846d301",
      "metadata": {
        "id": "0846d301"
      },
      "source": [
        "**Question: 3**\n",
        "\n",
        "**Python to represent the relationship between the number of bedrooms, bathrooms, and square footage of a house as a matrix:**\n",
        "\n",
        "**Bathroom =[2,4,5]**\n",
        "\n",
        "**Bedroom = [2,3,4]**\n",
        "\n",
        "**Sqft_living = [1500,2000,2500]**"
      ]
    },
    {
      "cell_type": "code",
      "execution_count": null,
      "id": "dcec1a04",
      "metadata": {
        "id": "dcec1a04",
        "outputId": "07b7f98f-fe5a-4d40-fc99-18d3396aab14"
      },
      "outputs": [
        {
          "name": "stdout",
          "output_type": "stream",
          "text": [
            "[[   2    2 1500]\n",
            " [   4    3 2000]\n",
            " [   5    4 2500]]\n"
          ]
        }
      ],
      "source": [
        "import numpy as np\n",
        "\n",
        "# Create a list of the number of bathrooms, bedroom and square footage of a house\n",
        "house_features = [[2, 2, 1500], [4, 3, 2000], [5, 4, 2500]]\n",
        "\n",
        "# Create a list of the prices of the houses\n",
        "\n",
        "# Convert the lists to NumPy arrays\n",
        "house_features_array = np.array(house_features)\n",
        "#print(house_features_array)\n",
        "\n",
        "\n",
        "# Create a matrix that represents the relationship between each of the house features.\n",
        "house_features_matrix = (house_features_array)\n",
        "# Print the house featurrs matrix\n",
        "print(house_features_matrix)"
      ]
    },
    {
      "cell_type": "markdown",
      "id": "af32bebc",
      "metadata": {
        "id": "af32bebc"
      },
      "source": [
        "### **Operations of Vectors and Matrices:**\n",
        "\n",
        "**Vectors and matrices can be added, subtracted, multiplied, and divided. They can also be used to perform operations on data, such as finding the mean, median, and mode of a set of numbers.**\n",
        "\n",
        "**Here are some of the common operations on vectors and matrices:**\n",
        "\n",
        "* **Addition:** **Two vectors can be added by adding corresponding elements. For example, the vectors (1, 2, 3) and (4, 5, 6) can be added to get the vector (5, 7, 9).**\n",
        "\n",
        "\n",
        "* **Subtraction:** **Two vectors can be subtracted by subtracting corresponding elements. For example, the vectors (1, 2, 3) and (4, 5, 6) and can be subtracted to get the vector (-3, -3, -3).**\n",
        "\n",
        "\n",
        "\n",
        "* **Multiplication:** **A vector can be multiplied by a scalar by multiplying each element of the vector by the scalar. For example, the vector (1, 2, 3) can be multiplied by the scalar 2 to get the vector (2, 4, 6).**\n",
        "\n",
        "\n",
        "* **Matrix multiplication:** **Two matrices can be multiplied by multiplying corresponding elements of each matrix. For example, the matrices.**"
      ]
    },
    {
      "cell_type": "raw",
      "id": "da00dc66",
      "metadata": {
        "id": "da00dc66"
      },
      "source": [
        "For example, the matrices\n",
        "[1 2 3]\n",
        "[4 5 6]\n",
        "[7 8 9]\n",
        "\n",
        "and\n",
        "\n",
        "[1 0]\n",
        "[0 1]\n",
        "\n",
        "can be multiplied to get the matrix\n",
        "\n",
        "[1 2]\n",
        "[4 6]\n",
        "[7 8]\n"
      ]
    },
    {
      "cell_type": "markdown",
      "id": "7338a185",
      "metadata": {
        "id": "7338a185"
      },
      "source": [
        "## **Basic Operations on a Python Vector:**"
      ]
    },
    {
      "cell_type": "markdown",
      "id": "84e9bcfc",
      "metadata": {
        "id": "84e9bcfc"
      },
      "source": [
        "**Here is a list of the basic operations that can be performed on a Vector–**\n",
        "\n",
        "* **Addition**\n",
        "\n",
        "* **Subtraction**\n",
        "\n",
        "* **Multiplication**\n",
        "\n",
        "* **Division**\n",
        "\n",
        "* **Dot Product**"
      ]
    },
    {
      "cell_type": "markdown",
      "id": "f4c9eb50",
      "metadata": {
        "id": "f4c9eb50"
      },
      "source": [
        "**1. Performing addition operation on a Python Vector:**\n",
        "\n",
        "**The addition operation would take place in an element-wise manner i.e. element by element and further the resultant vector would have the same length as of the two additive vectors.**\n",
        "\n",
        "**Syntax:**\n",
        "\n",
        "**vector + vector**"
      ]
    },
    {
      "cell_type": "code",
      "execution_count": null,
      "id": "241260ad",
      "metadata": {
        "id": "241260ad",
        "outputId": "9d69f8e3-158f-4045-c7e8-f82e31b491a5"
      },
      "outputs": [
        {
          "name": "stdout",
          "output_type": "stream",
          "text": [
            "Vector created from a list 1:\n",
            "[10 20 30 40 50]\n",
            "Vector created from a list 2:\n",
            "[1 2 3 4 5]\n",
            "Addition of two vectors:  [11 22 33 44 55]\n"
          ]
        }
      ],
      "source": [
        "import numpy as np\n",
        "\n",
        "lst1 = [10,20,30,40,50]\n",
        "lst2 = [1,2,3,4,5]\n",
        "\n",
        "\n",
        "vctr1 = np.array(lst1)\n",
        "\n",
        "vctr2= np.array(lst2)\n",
        "\n",
        "\n",
        "print(\"Vector created from a list 1:\")\n",
        "print(vctr1)\n",
        "print(\"Vector created from a list 2:\")\n",
        "print(vctr2)\n",
        "\n",
        "vctr_add = vctr1+vctr2\n",
        "print(\"Addition of two vectors: \",vctr_add)"
      ]
    },
    {
      "cell_type": "markdown",
      "id": "c6ea86fb",
      "metadata": {
        "id": "c6ea86fb"
      },
      "source": [
        "**2. Performing Subtraction of two vectors:**\n",
        "\n",
        "**In subtraction, the elements of vector 2 will be subtracted from the corresponding elements of vector 1, one at a time.**"
      ]
    },
    {
      "cell_type": "code",
      "execution_count": null,
      "id": "023d397f",
      "metadata": {
        "id": "023d397f",
        "outputId": "74f591fe-f7b3-4c57-a278-c6a5ddcc4c40"
      },
      "outputs": [
        {
          "name": "stdout",
          "output_type": "stream",
          "text": [
            "Vector created from a list 1:\n",
            "[10 20 30 40 50]\n",
            "Vector created from a list 2:\n",
            "[1 2 3 4 5]\n",
            "Subtraction of two vectors:  [ 9 18 27 36 45]\n"
          ]
        }
      ],
      "source": [
        "import numpy as np\n",
        "\n",
        "lst1 = [10,20,30,40,50]\n",
        "lst2 = [1,2,3,4,5]\n",
        "\n",
        "vctr1 = np.array(lst1)\n",
        "\n",
        "vctr2= np.array(lst2)\n",
        "\n",
        "print(\"Vector created from a list 1:\")\n",
        "print(vctr1)\n",
        "print(\"Vector created from a list 2:\")\n",
        "print(vctr2)\n",
        "\n",
        "vctr_sub = vctr1-vctr2\n",
        "print(\"Subtraction of two vectors: \",vctr_sub)"
      ]
    },
    {
      "cell_type": "markdown",
      "id": "0825ac3e",
      "metadata": {
        "id": "0825ac3e"
      },
      "source": [
        "**3. Performing multiplication of two vectors:**\n",
        "\n",
        "**In vector multiplication, the corresponding elements of two vectors are multiplied together, and the resulting vector has the same length as the original vectors.**\n",
        "\n",
        "**Let us try to visualize the multiplication operation:**\n",
        "\n",
        "x = [10,20] and y = [1,2] are two vectors. So the product vector would be v[ ],\n",
        "\n",
        "v[0] = x[0] * y[0]\n",
        "v[1] = x[1] * y[1]"
      ]
    },
    {
      "cell_type": "code",
      "execution_count": null,
      "id": "dea190e2",
      "metadata": {
        "id": "dea190e2",
        "outputId": "f4612c23-633b-421e-cb3d-aa1bb62cb2dc"
      },
      "outputs": [
        {
          "name": "stdout",
          "output_type": "stream",
          "text": [
            "Vector created from a list 1:\n",
            "[10 20 30 40 50]\n",
            "Vector created from a list 2:\n",
            "[1 2 3 4 5]\n",
            "Multiplication of two vectors:  [ 10  40  90 160 250]\n"
          ]
        }
      ],
      "source": [
        "import numpy as np\n",
        "\n",
        "lst1 = [10,20,30,40,50]\n",
        "lst2 = [1,2,3,4,5]\n",
        "\n",
        "vctr1 = np.array(lst1)\n",
        "\n",
        "vctr2= np.array(lst2)\n",
        "\n",
        "print(\"Vector created from a list 1:\")\n",
        "print(vctr1)\n",
        "print(\"Vector created from a list 2:\")\n",
        "print(vctr2)\n",
        "\n",
        "vctr_mul = vctr1*vctr2\n",
        "print(\"Multiplication of two vectors: \",vctr_mul)"
      ]
    },
    {
      "cell_type": "markdown",
      "id": "c466eefd",
      "metadata": {
        "id": "c466eefd"
      },
      "source": [
        "**4. Performing Vector division operation:**\n",
        "\n",
        "**In vector division, the resultant vector is the quotient values after carrying out division operation on the two vectors.**\n",
        "\n",
        "**For example:**\n",
        "\n",
        "x = [10,20] and y = [1,2] are two vectors. So the resultant vector v would be,\n",
        "\n",
        "v[0] = x[0] / y[0]\n",
        "\n",
        "v[1] = x[1] / y[1]"
      ]
    },
    {
      "cell_type": "code",
      "execution_count": null,
      "id": "ba128a35",
      "metadata": {
        "id": "ba128a35",
        "outputId": "ae3081db-5e98-4020-b45b-316b150d0623"
      },
      "outputs": [
        {
          "name": "stdout",
          "output_type": "stream",
          "text": [
            "Vector created from a list 1:\n",
            "[10 20 30 40 50]\n",
            "Vector created from a list 2:\n",
            "[10 20 30 40 50]\n",
            "Division of two vectors:  [1. 1. 1. 1. 1.]\n"
          ]
        }
      ],
      "source": [
        "import numpy as np\n",
        "\n",
        "lst1 = [10,20,30,40,50]\n",
        "lst2 = [10,20,30,40,50]\n",
        "\n",
        "vctr1 = np.array(lst1)\n",
        "\n",
        "vctr2= np.array(lst2)\n",
        "\n",
        "print(\"Vector created from a list 1:\")\n",
        "print(vctr1)\n",
        "print(\"Vector created from a list 2:\")\n",
        "print(vctr2)\n",
        "\n",
        "vctr_div = vctr1/vctr2\n",
        "print(\"Division of two vectors: \",vctr_div)"
      ]
    },
    {
      "cell_type": "markdown",
      "id": "abf04fe2",
      "metadata": {
        "id": "abf04fe2"
      },
      "source": [
        "**Practice Time:**"
      ]
    },
    {
      "cell_type": "markdown",
      "id": "7e94cbbb",
      "metadata": {
        "id": "7e94cbbb"
      },
      "source": [
        "**Question:**\n",
        "\n",
        "**Marks of students in different subjects out of 50:**\n",
        "\n",
        "**Roll no = [1,2,3,4,5,6,7,8,9,10]**\n",
        "\n",
        "**English = [35,45,34,47,36,39,41,30,44,29]**\n",
        "          \n",
        "**Maths = [40,31,42,46,28,30,35,39,34,41]**\n",
        "         \n",
        "**Biology = [29,33,45,27,43,31,34,32,42,30]**\n",
        "            \n",
        "**Physics = [35,45,34,47,36,39,41,30,44,29]**\n",
        "           \n",
        "**Chemistry = [40,31,42,46,28,30,35,39,34,41]**  \n",
        "            \n",
        "**Total Negative marking = [7,8,0,3,5,12,0,2,1,7]**\n",
        "\n",
        "\n",
        "**Answer the following:**\n",
        "\n",
        "* **Q.1 Determine the sum of the marks obtained by students in each subject.**\n",
        "\n",
        "* **Q.2 Deduct the negative marking from the students' total marks and calculate their final score.**\n",
        "\n",
        "* **Q.3 Calculate the students' marks out of 100, given that their original marks were out of 50.**\n",
        "\n",
        "* **Q.4 Find the avarage mark scored by each students in all subjects.**"
      ]
    },
    {
      "cell_type": "code",
      "execution_count": null,
      "id": "3b4abac6",
      "metadata": {
        "id": "3b4abac6",
        "outputId": "0c368d78-1587-4051-dc3c-1bac64d93c93"
      },
      "outputs": [
        {
          "name": "stdout",
          "output_type": "stream",
          "text": [
            "[1, 2, 3, 4, 5, 6, 7, 8, 9, 10]\n",
            "[179 185 197 213 171 169 186 170 198 170]\n"
          ]
        }
      ],
      "source": [
        "#Answer: 1\n",
        "\n",
        "import numpy as np\n",
        "\n",
        "Roll_no = [1,2,3,4,5,6,7,8,9,10]\n",
        "English = np.array([35, 45, 34, 47, 36, 39, 41, 30, 44, 29])\n",
        "Maths = np.array([40, 31, 42, 46, 28, 30, 35, 39, 34, 41])\n",
        "Biology = np.array([29, 33, 45, 27, 43, 31, 34, 32, 42, 30])\n",
        "Physics = np.array([35, 45, 34, 47, 36, 39, 41, 30, 44, 29])\n",
        "Chemistry = np.array([40, 31, 42, 46, 28, 30, 35, 39, 34, 41])\n",
        "\n",
        "# Add the vectors\n",
        "total_marks = English + Maths + Biology + Physics + Chemistry\n",
        "\n",
        "# Print the total marks\n",
        "print(Roll_no)\n",
        "print(total_marks)"
      ]
    },
    {
      "cell_type": "code",
      "execution_count": null,
      "id": "9968d8ce",
      "metadata": {
        "id": "9968d8ce",
        "outputId": "01d41b22-9f1c-4c99-a53e-03d5761b1e0e"
      },
      "outputs": [
        {
          "name": "stdout",
          "output_type": "stream",
          "text": [
            "[1, 2, 3, 4, 5, 6, 7, 8, 9, 10]\n",
            "[179 185 197 213 171 169 186 170 198 170]\n",
            "[1, 2, 3, 4, 5, 6, 7, 8, 9, 10]\n",
            "[172 177 197 210 166 157 186 168 197 163]\n"
          ]
        }
      ],
      "source": [
        "# Answer:2\n",
        "Roll_no = [1,2,3,4,5,6,7,8,9,10]\n",
        "English = np.array([35, 45, 34, 47, 36, 39, 41, 30, 44, 29])\n",
        "Maths = np.array([40, 31, 42, 46, 28, 30, 35, 39, 34, 41])\n",
        "Biology = np.array([29, 33, 45, 27, 43, 31, 34, 32, 42, 30])\n",
        "Physics = np.array([35, 45, 34, 47, 36, 39, 41, 30, 44, 29])\n",
        "Chemistry = np.array([40, 31, 42, 46, 28, 30, 35, 39, 34, 41])\n",
        "\n",
        "Total_Negative_marking = [7,8,0,3,5,12,0,2,1,7]\n",
        "\n",
        "\n",
        "# Add the vectors\n",
        "total_marks = English + Maths + Biology + Physics + Chemistry\n",
        "\n",
        "# Print the total marks\n",
        "print(Roll_no)\n",
        "print(total_marks)\n",
        "\n",
        "#deducting negative markings on total marks\n",
        "\n",
        "negative_marks=total_marks-Total_Negative_marking\n",
        "print(Roll_no)\n",
        "print(negative_marks)"
      ]
    },
    {
      "cell_type": "code",
      "execution_count": null,
      "id": "ea3cb165",
      "metadata": {
        "id": "ea3cb165",
        "outputId": "23132793-515c-454e-f9ac-dcdd86327d85"
      },
      "outputs": [
        {
          "name": "stdout",
          "output_type": "stream",
          "text": [
            "Marks out of 50\n",
            "[35 45 34 47 36 39 41 30 44 29]\n",
            "[40 31 42 46 28 30 35 39 34 41]\n",
            "[29 33 45 27 43 31 34 32 42 30]\n",
            "[35 45 34 47 36 39 41 30 44 29]\n",
            "[40 31 42 46 28 30 35 39 34 41]\n",
            "................................\n",
            "Marks out of 100\n",
            "[1, 2, 3, 4, 5, 6, 7, 8, 9, 10]\n",
            "[70 90 68 94 72 78 82 60 88 58]\n",
            "[80 62 84 92 56 60 70 78 68 82]\n",
            "[58 66 90 54 86 62 68 64 84 60]\n",
            "[70 90 68 94 72 78 82 60 88 58]\n",
            "[80 62 84 92 56 60 70 78 68 82]\n"
          ]
        }
      ],
      "source": [
        "#Answer:3\n",
        "\n",
        "Roll_number = ['Student 1', 'Student 2', 'Student 3', 'Student 4', 'Student 5', 'Student 6', 'Student 7', 'Student 8', 'Student 9', 'Student 10']\n",
        "\n",
        "Roll_no = [1,2,3,4,5,6,7,8,9,10]\n",
        "English = np.array([35, 45, 34, 47, 36, 39, 41, 30, 44, 29])\n",
        "Maths = np.array([40, 31, 42, 46, 28, 30, 35, 39, 34, 41])\n",
        "Biology = np.array([29, 33, 45, 27, 43, 31, 34, 32, 42, 30])\n",
        "Physics = np.array([35, 45, 34, 47, 36, 39, 41, 30, 44, 29])\n",
        "Chemistry = np.array([40, 31, 42, 46, 28, 30, 35, 39, 34, 41])\n",
        "\n",
        "\n",
        "print(\"Marks out of 50\")\n",
        "print(English)\n",
        "print(Maths)\n",
        "print(Biology)\n",
        "print(Physics)\n",
        "print(Chemistry)\n",
        "# coversion of 50 marks to 100\n",
        "\n",
        "new_english = English*2\n",
        "new_maths = Maths*2\n",
        "new_bio = Biology*2\n",
        "new_phy = Physics*2\n",
        "new_chem = Chemistry*2\n",
        "\n",
        "\n",
        "\n",
        "print(\"................................\")\n",
        "print(\"Marks out of 100\")\n",
        "print(Roll_no)\n",
        "print(new_english)\n",
        "print(new_maths)\n",
        "print(new_bio)\n",
        "print(new_phy)\n",
        "print(new_chem)"
      ]
    },
    {
      "cell_type": "code",
      "execution_count": null,
      "id": "6ee846c8",
      "metadata": {
        "id": "6ee846c8",
        "outputId": "3d6ee3da-86d0-40e9-a9ad-c3903d9cac4c"
      },
      "outputs": [
        {
          "name": "stdout",
          "output_type": "stream",
          "text": [
            "Student 1: 71.6\n",
            "Student 2: 74.0\n",
            "Student 3: 76.0\n",
            "Student 4: 83.6\n",
            "Student 5: 61.6\n",
            "Student 6: 66.8\n",
            "Student 7: 70.0\n",
            "Student 8: 74.8\n",
            "Student 9: 71.6\n",
            "Student 10: 68.0\n"
          ]
        }
      ],
      "source": [
        "# Answer:4\n",
        "\n",
        "import numpy as np\n",
        "\n",
        "# Create a list of students\n",
        "students = ['Student 1', 'Student 2', 'Student 3', 'Student 4', 'Student 5', 'Student 6', 'Student 7', 'Student 8', 'Student 9', 'Student 10']\n",
        "\n",
        "# Create a list of subjects\n",
        "subjects = ['English', 'Maths', 'Bio', 'Physics', 'Chemistry']\n",
        "\n",
        "# Create a list of marks for each student in each subject\n",
        "marks = np.array([\n",
        "    [70, 80, 58, 70, 80],\n",
        "    [90, 62, 66, 90, 62],\n",
        "    [68, 84, 90, 54, 84],\n",
        "    [94, 92, 54, 86, 92],\n",
        "    [72, 56, 62, 62, 56],\n",
        "    [78, 60, 68, 68, 60],\n",
        "    [82, 70, 64, 64, 70],\n",
        "    [60, 78, 84, 84, 68],\n",
        "    [88, 68, 60, 60, 82],\n",
        "    [58, 82, 60, 58, 82],\n",
        "])\n",
        "\n",
        "# Calculate the average mark for each student\n",
        "average_marks = np.mean(marks, axis=1)\n",
        "\n",
        "# Print the average marks for each student\n",
        "for student, average_mark in zip(students, average_marks):\n",
        "    print(f'{student}: {average_mark}')"
      ]
    },
    {
      "cell_type": "markdown",
      "id": "b4a12cfd",
      "metadata": {
        "id": "b4a12cfd"
      },
      "source": [
        "**Practice Time with Dot Product:**"
      ]
    },
    {
      "cell_type": "code",
      "execution_count": null,
      "id": "a2c2fd07",
      "metadata": {
        "id": "a2c2fd07",
        "outputId": "3e5cd7dd-64f6-44a0-bdfc-ef4b9190ba83"
      },
      "outputs": [
        {
          "name": "stdout",
          "output_type": "stream",
          "text": [
            "Vector created from a list 1:\n",
            "[10 20 30 40 50]\n",
            "Vector created from a list 2:\n",
            "[1 1 1 1 1]\n",
            "Dot product of two vectors:  150\n"
          ]
        }
      ],
      "source": [
        "import numpy as np\n",
        "\n",
        "lst1 = [10,20,30,40,50]\n",
        "lst2 = [1,1,1,1,1]\n",
        "\n",
        "\n",
        "vctr1 = np.array(lst1)\n",
        "\n",
        "vctr2= np.array(lst2)\n",
        "\n",
        "\n",
        "print(\"Vector created from a list 1:\")\n",
        "print(vctr1)\n",
        "print(\"Vector created from a list 2:\")\n",
        "print(vctr2)\n",
        "\n",
        "vctr_dot = vctr1.dot(vctr2)\n",
        "print(\"Dot product of two vectors: \",vctr_dot)"
      ]
    },
    {
      "cell_type": "code",
      "execution_count": null,
      "id": "24653794",
      "metadata": {
        "id": "24653794",
        "outputId": "9b40695c-02be-412b-c68f-c4cfeb853b5f"
      },
      "outputs": [
        {
          "name": "stdout",
          "output_type": "stream",
          "text": [
            "-4\n"
          ]
        }
      ],
      "source": [
        "#In Python 3.5 and later, you can also use the **@** operator to calculate the dot product:\n",
        "import numpy as np\n",
        "\n",
        "v = np.array([2,1])\n",
        "s = np.array([-3,2])\n",
        "d = v @ s\n",
        "print (d)"
      ]
    },
    {
      "cell_type": "markdown",
      "id": "27a06af2",
      "metadata": {
        "id": "27a06af2"
      },
      "source": [
        "**5. Performing Vector operation in dot product:**\n",
        "\n",
        "**In a vector dot product, we perform the summation of the product of the two vectors in an element-wise fashion.\n",
        " It can be calculated using the following formula:**\n",
        "\n",
        "**vector c = x . y = (x1 * y1 + x2 * y2)**"
      ]
    },
    {
      "cell_type": "markdown",
      "id": "094a72af",
      "metadata": {
        "id": "094a72af"
      },
      "source": [
        "**Demo**\n",
        "\n",
        "**Question: Given two lists, lst1 having values comprising of [10,20,30,40,50] and lst2 consisting of [1,1,1,1,1], calculate the dot product of the vectors created from these lists.**"
      ]
    },
    {
      "cell_type": "code",
      "execution_count": null,
      "id": "dbec8633",
      "metadata": {
        "id": "dbec8633",
        "outputId": "a009998c-7b09-48ef-d38e-d246b1143d77"
      },
      "outputs": [
        {
          "name": "stdout",
          "output_type": "stream",
          "text": [
            "Vector created from a list 1:\n",
            "[10 20 30 40 50]\n",
            "Vector created from a list 2:\n",
            "[1 1 1 1 1]\n",
            "Dot product of two vectors:  150\n"
          ]
        }
      ],
      "source": [
        "#Dot Product\n",
        "\n",
        "import numpy as np\n",
        "\n",
        "lst1 = [10,20,30,40,50]\n",
        "lst2 = [1,1,1,1,1]\n",
        "\n",
        "\n",
        "vctr1 = np.array(lst1)\n",
        "\n",
        "vctr2= np.array(lst2)\n",
        "\n",
        "\n",
        "print(\"Vector created from a list 1:\")\n",
        "print(vctr1)\n",
        "print(\"Vector created from a list 2:\")\n",
        "print(vctr2)\n",
        "\n",
        "vctr_dot = vctr1.dot(vctr2)\n",
        "print(\"Dot product of two vectors: \",vctr_dot)"
      ]
    },
    {
      "cell_type": "markdown",
      "id": "be0e47b1",
      "metadata": {
        "id": "be0e47b1"
      },
      "source": [
        "**Practice Time**\n",
        "\n",
        "**Question: 1**\n",
        "\n",
        "**Using the information provided in the below, what is the outcome of the dot product operation between the \"cost_of_production\" array and the \"weights\" array?**\n",
        "\n",
        " **1.  cost_of_production = [100, 200, 300]**\n",
        "\n",
        " **2.  weights = [0.2, 0.5, 0.3]**"
      ]
    },
    {
      "cell_type": "code",
      "execution_count": null,
      "id": "96835e73",
      "metadata": {
        "id": "96835e73",
        "outputId": "b24d881b-d2e2-4223-e37c-01a141414093"
      },
      "outputs": [
        {
          "name": "stdout",
          "output_type": "stream",
          "text": [
            "210.0\n"
          ]
        }
      ],
      "source": [
        "import numpy as np\n",
        "\n",
        "# Define the cost of production and the weights\n",
        "cost_of_production = np.array([100, 200, 300])\n",
        "weights = np.array([0.2, 0.5, 0.3])\n",
        "\n",
        "# Calculate the weighted average\n",
        "weighted_average = np.dot(cost_of_production, weights)\n",
        "\n",
        "# Print the result\n",
        "print(weighted_average)"
      ]
    },
    {
      "cell_type": "markdown",
      "id": "3980de36",
      "metadata": {
        "id": "3980de36"
      },
      "source": [
        "**Question: 2**\n",
        "\n",
        "**Given below are the quantities bought by Nicole and their respective prices of the grocery items, what is the total amount by calculating the dot product of the \"kilograms\" array and the \"price\" array?**\n",
        "\n",
        "**kilograms = [1, 2, 3]**\n",
        "\n",
        "**price = [10, 20, 30]**"
      ]
    },
    {
      "cell_type": "code",
      "execution_count": null,
      "id": "e3f15286",
      "metadata": {
        "id": "e3f15286",
        "outputId": "37bdd124-b4ae-46ba-d054-f85a5625813e"
      },
      "outputs": [
        {
          "name": "stdout",
          "output_type": "stream",
          "text": [
            "140\n"
          ]
        }
      ],
      "source": [
        "import numpy as np\n",
        "\n",
        "# Define the kilograms and price of each grocery item\n",
        "kilograms = np.array([1, 2, 3])\n",
        "price = np.array([10, 20, 30])\n",
        "\n",
        "# Calculate the total amount\n",
        "total_amount = np.dot(kilograms, price)\n",
        "\n",
        "# Print the result\n",
        "print(total_amount)"
      ]
    },
    {
      "cell_type": "markdown",
      "id": "3d36900d",
      "metadata": {
        "id": "3d36900d"
      },
      "source": [
        "**Cross Product:**\n",
        "\n",
        "* **The cross product in Python is a mathematical operation that takes two vectors and produces a third vector.**\n",
        "\n",
        "* **The third vector is perpendicular to the plane that contains the first two vectors.**\n",
        "\n",
        "* **The length of the third vector is equal to the area of the parallelogram formed by the first two vectors.**\n",
        "\n",
        "\n",
        "\n",
        "**The cross product can be calculated using the following formula:**\n",
        "\n",
        "**cross_product = (a2 * b3 - a3 * b2, a3 * b1 - a1 * b3, a1 * b2 - a2 * b1)**\n"
      ]
    },
    {
      "cell_type": "code",
      "execution_count": null,
      "id": "8d2725e6",
      "metadata": {
        "id": "8d2725e6",
        "outputId": "6604fe8f-b097-4c2a-8e6e-8d1a95f2a9f1"
      },
      "outputs": [
        {
          "name": "stdout",
          "output_type": "stream",
          "text": [
            "Area of the triangle: 25.709920264364882\n"
          ]
        }
      ],
      "source": [
        "#finding the area of triangle using cross product\n",
        "\n",
        "import numpy as np\n",
        "\n",
        "# Define the vectors representing the sides of the triangle\n",
        "a = np.array([2, 8, 12])\n",
        "b = np.array([2, 6, 3])\n",
        "\n",
        "# Calculate the area of the triangle\n",
        "area = 0.5 * np.linalg.norm(np.cross(a, b))\n",
        "\n",
        "# Print the result\n",
        "print(\"Area of the triangle:\", area)"
      ]
    },
    {
      "cell_type": "markdown",
      "id": "fabd0279",
      "metadata": {
        "id": "fabd0279"
      },
      "source": [
        "**Question: 1**\n",
        "\n",
        "**Write a function that takes two vectors as input, a position vector and a force vector, and returns the torque vector. The torque vector is calculated using the cross product of the two vectors based on the values given below.**\n",
        "\n",
        "**position = (1, 2, 3)**\n",
        "\n",
        "**force = (4, 5, 6)**"
      ]
    },
    {
      "cell_type": "code",
      "execution_count": null,
      "id": "54bbc1b4",
      "metadata": {
        "id": "54bbc1b4",
        "outputId": "9df52420-02cb-4d24-84b1-f0fe98a0b09c"
      },
      "outputs": [
        {
          "name": "stdout",
          "output_type": "stream",
          "text": [
            "Torque: [-3  6 -3]\n"
          ]
        }
      ],
      "source": [
        "import numpy as np\n",
        "\n",
        "# Calculate torque using cross product\n",
        "def calculate_torque(position_vector, force_vector):\n",
        "    torque = np.cross(position_vector, force_vector)\n",
        "    return torque\n",
        "\n",
        "# Example usage\n",
        "position = np.array([1, 2, 3])\n",
        "force = np.array([4, 5, 6])\n",
        "torque_result = calculate_torque(position, force)\n",
        "print(\"Torque:\", torque_result)"
      ]
    },
    {
      "cell_type": "markdown",
      "id": "f63f2b7f",
      "metadata": {
        "id": "f63f2b7f"
      },
      "source": [
        "**Question: 2**\n",
        "\n",
        "**Given the sides of a triangle as vectors [0, 0], [4, 0], and [2, 3], what is the area of the triangle using cross product function?**"
      ]
    },
    {
      "cell_type": "code",
      "execution_count": null,
      "id": "a0452f0e",
      "metadata": {
        "id": "a0452f0e",
        "outputId": "cb83a402-e807-4d96-e5ab-9acbdcdd1948"
      },
      "outputs": [
        {
          "name": "stdout",
          "output_type": "stream",
          "text": [
            "Area of the triangle: 6.0\n"
          ]
        }
      ],
      "source": [
        "import numpy as np\n",
        "\n",
        "# Calculate area of triangle using cross product\n",
        "def calculate_triangle_area(vertices):\n",
        "    # Extract the vertices of the triangle\n",
        "    v1, v2, v3 = vertices\n",
        "\n",
        "    # Calculate two vectors within the triangle\n",
        "    vector1 = v2 - v1\n",
        "    vector2 = v3 - v1\n",
        "\n",
        "    # Calculate the cross product\n",
        "    cross_product = np.cross(vector1, vector2)\n",
        "\n",
        "    # Calculate the magnitude of the cross product\n",
        "    area = 0.5 * np.linalg.norm(cross_product)\n",
        "\n",
        "    return area\n",
        "\n",
        "# Example usage\n",
        "triangle_vertices = np.array([[0, 0], [4, 0], [2, 3]])\n",
        "triangle_area = calculate_triangle_area(triangle_vertices)\n",
        "print(\"Area of the triangle:\", triangle_area)"
      ]
    },
    {
      "cell_type": "code",
      "execution_count": null,
      "id": "5b680cb5",
      "metadata": {
        "id": "5b680cb5"
      },
      "outputs": [],
      "source": []
    },
    {
      "cell_type": "markdown",
      "id": "a1e80c3c",
      "metadata": {
        "id": "a1e80c3c"
      },
      "source": [
        "### **Eigenvector:**\n",
        "\n",
        "* **An eigenvector is a non-zero vector that, when multiplied by a given matrix, only gets stretched or shrunk but does not change direction.**\n",
        "\n",
        "* **In other words, if we have a matrix A and a vector v, if multiplying A by v results in a scalar multiple of v, then v is an eigenvector of A.**\n",
        "\n",
        "* **Note that eigenvectors are stored as columns in the eigenvectors array, so we use .T to transpose it before iterating over the eigenvectors and printing them.**\n",
        "\n",
        "* **The scalar multiple is called the eigenvalue associated with that eigenvector.**\n",
        "\n",
        "### **Eigenvalue:**\n",
        "\n",
        "* **Eigenvalues are the corresponding scalars that tell us how much an eigenvector is stretched or shrunk when it is transformed by a matrix.**\n",
        "\n",
        "* **Each eigenvector has its eigenvalue. An eigenvalue represents a factor by which the eigenvector is scaled during the transformation.**\n",
        "\n",
        "\n",
        "**To summarize, an eigenvector is a vector that remains in the same direction (up to a scalar multiple) when multiplied by a matrix, and the corresponding eigenvalue tells us the scale by which that vector is stretched or shrunk.**"
      ]
    },
    {
      "cell_type": "markdown",
      "id": "18a814ad",
      "metadata": {
        "id": "18a814ad"
      },
      "source": [
        "###**Demo**\n",
        "\n",
        "**Question:** **Calculate the eigenvalues and eigenvector for the following array.**\n",
        "\n",
        "**matrix = ([2, 1], [1, 3])**"
      ]
    },
    {
      "cell_type": "code",
      "execution_count": null,
      "id": "79aa2e92",
      "metadata": {
        "id": "79aa2e92",
        "outputId": "c2832498-a016-4860-ab8e-a12aa4a6ec5a"
      },
      "outputs": [
        {
          "name": "stdout",
          "output_type": "stream",
          "text": [
            "Eigenvalues: [1.38196601 3.61803399]\n",
            "Eigenvectors:\n",
            "[-0.85065081  0.52573111]\n",
            "[-0.52573111 -0.85065081]\n"
          ]
        }
      ],
      "source": [
        "import numpy as np\n",
        "\n",
        "# Create a matrix\n",
        "matrix = np.array([[2, 1], [1, 3]])\n",
        "\n",
        "# Calculate eigenvalues and eigenvectors\n",
        "eigenvalues, eigenvectors = np.linalg.eig(matrix)\n",
        "\n",
        "# Print the eigenvalues\n",
        "print(\"Eigenvalues:\", eigenvalues)\n",
        "\n",
        "# Print the eigenvectors\n",
        "print(\"Eigenvectors:\")\n",
        "for vector in eigenvectors.T:\n",
        "    print(vector)"
      ]
    },
    {
      "cell_type": "markdown",
      "id": "6645387c",
      "metadata": {
        "id": "6645387c"
      },
      "source": [
        "###**Practice Time**\n",
        "\n",
        "**Question: 1**\n",
        "\n",
        "**Calculate the eigenvalues and eigenvector for the following array.**\n",
        "\n",
        "**A = [(5,6),(9,3)]**"
      ]
    },
    {
      "cell_type": "code",
      "execution_count": null,
      "id": "9bdf89a2",
      "metadata": {
        "id": "9bdf89a2",
        "outputId": "b6728486-e907-4107-9bd8-e36029312b31"
      },
      "outputs": [
        {
          "name": "stdout",
          "output_type": "stream",
          "text": [
            "Eigenvalues: [11.41619849 -3.41619849]\n",
            "Eigenvectors:\n",
            "[0.68302051 0.73039919]\n",
            "[-0.58049671  0.81426259]\n"
          ]
        }
      ],
      "source": [
        "# Define the matrix A\n",
        "A = np.array([[5, 6], [9, 3]])\n",
        "\n",
        "# Calculate the eigenvectors of A\n",
        "eigenvalues, eigenvectors = np.linalg.eig(A)\n",
        "\n",
        "# Print the eigenvalues\n",
        "print(\"Eigenvalues:\", eigenvalues)\n",
        "\n",
        "print(\"Eigenvectors:\")\n",
        "for i in range(len(eigenvectors)):\n",
        "    print(eigenvectors[:,i])\n"
      ]
    },
    {
      "cell_type": "markdown",
      "id": "c89a4c7c",
      "metadata": {
        "id": "c89a4c7c"
      },
      "source": [
        "**Question: 2**\n",
        "\n",
        "**Calculate the eigenvalues and eigenvector for the following array.**\n",
        "\n",
        "**Vector = [(1,2),(3,4)]**"
      ]
    },
    {
      "cell_type": "code",
      "execution_count": null,
      "id": "a4e1fd25",
      "metadata": {
        "id": "a4e1fd25",
        "outputId": "bd57c865-7380-41bd-a4ee-4cef2ba5ca02"
      },
      "outputs": [
        {
          "name": "stdout",
          "output_type": "stream",
          "text": [
            "Eigenvalues: [-0.37228132  5.37228132]\n",
            "Eigenvectors: [[-0.82456484 -0.41597356]\n",
            " [ 0.56576746 -0.90937671]]\n"
          ]
        }
      ],
      "source": [
        "# Create a 2x2 matrix\n",
        "Vector = np.array([[1, 2], [3, 4]])\n",
        "\n",
        "# Find the eigenvalues and eigenvectors of A\n",
        "w, v = np.linalg.eig(A)\n",
        "\n",
        "# Print the eigenvalues and eigenvectors\n",
        "print(\"Eigenvalues:\", w)\n",
        "print(\"Eigenvectors:\", v)"
      ]
    },
    {
      "cell_type": "code",
      "execution_count": null,
      "id": "38689d15",
      "metadata": {
        "id": "38689d15"
      },
      "outputs": [],
      "source": []
    },
    {
      "cell_type": "markdown",
      "id": "889cb171",
      "metadata": {
        "id": "889cb171"
      },
      "source": [
        "### **Matrices**\n",
        "\n",
        "**A Python matrix is a specialized two-dimensional rectangular array of data stored in rows and columns.**\n",
        "\n",
        "**The data in a matrix can be numbers, strings, expressions, symbols, etc.**\n",
        "\n",
        "**Python provides several ways to perform operations on matrices. Here are some common operations you can perform using various matrices.**"
      ]
    },
    {
      "cell_type": "markdown",
      "id": "b43d16ac",
      "metadata": {
        "id": "b43d16ac"
      },
      "source": [
        "#### **Matrix Creation**"
      ]
    },
    {
      "cell_type": "code",
      "execution_count": null,
      "id": "356774b6",
      "metadata": {
        "id": "356774b6",
        "outputId": "ec91d801-c140-453a-c080-71effb3f725b"
      },
      "outputs": [
        {
          "data": {
            "text/plain": [
              "array([[1, 2, 3],\n",
              "       [4, 5, 6],\n",
              "       [7, 8, 9]])"
            ]
          },
          "execution_count": 104,
          "metadata": {},
          "output_type": "execute_result"
        }
      ],
      "source": [
        "#Matrix Creation:\n",
        "\n",
        "import numpy as np\n",
        "\n",
        "# Create a matrix\n",
        "matrix = np.array([[1, 2, 3], [4, 5, 6], [7, 8, 9]])\n",
        "matrix"
      ]
    },
    {
      "cell_type": "markdown",
      "id": "eff147ea",
      "metadata": {
        "id": "eff147ea"
      },
      "source": [
        "Operations in Matrices:\n",
        "    "
      ]
    },
    {
      "cell_type": "markdown",
      "id": "9fc38365",
      "metadata": {
        "id": "9fc38365"
      },
      "source": [
        "**Demo**\n",
        "\n",
        "**Questions:** **Perform matrix operations of addition and subtraction and multiplication on 2 array consisting of values [1, 2], [3, 4] and [5, 6], [7, 8]**"
      ]
    },
    {
      "cell_type": "code",
      "execution_count": null,
      "id": "0e910664",
      "metadata": {
        "id": "0e910664",
        "outputId": "d4cca76b-bc56-47c3-ecef-88319cc54140"
      },
      "outputs": [
        {
          "name": "stdout",
          "output_type": "stream",
          "text": [
            "[[ 6  8]\n",
            " [10 12]]\n",
            "[[-4 -4]\n",
            " [-4 -4]]\n"
          ]
        }
      ],
      "source": [
        "#Addition and Subtraction:\n",
        "\n",
        "import numpy as np\n",
        "\n",
        "matrix1 = np.array([[1, 2], [3, 4]])\n",
        "matrix2 = np.array([[5, 6], [7, 8]])\n",
        "\n",
        "result = matrix1 + matrix2  # Addition\n",
        "# result = np.add(matrix1, matrix2)\n",
        "print(result)\n",
        "# Output: [[6 8]\n",
        "#          [10 12]]\n",
        "\n",
        "result = matrix1 - matrix2  # Subtraction\n",
        "# result = np.subtract(matrix1, matrix2)\n",
        "print(result)\n",
        "# Output: [[-4 -4]\n",
        "#          [-4 -4]]"
      ]
    },
    {
      "cell_type": "code",
      "execution_count": null,
      "id": "54831362",
      "metadata": {
        "id": "54831362",
        "outputId": "c4cfe888-31d5-423d-9b95-7115534a1994"
      },
      "outputs": [
        {
          "name": "stdout",
          "output_type": "stream",
          "text": [
            "[[ 5 12]\n",
            " [21 32]]\n",
            "[[19 22]\n",
            " [43 50]]\n"
          ]
        }
      ],
      "source": [
        "# Multiplication and dot product:\n",
        "\n",
        "import numpy as np\n",
        "\n",
        "matrix1 = np.array([[1, 2], [3, 4]])\n",
        "matrix2 = np.array([[5, 6], [7, 8]])\n",
        "\n",
        "result = matrix1 * matrix2  # Element-wise multiplication\n",
        "# result = np.multiply(matrix1, matrix2)\n",
        "print(result)\n",
        "\n",
        "\n",
        "#DOT PRODUCT\n",
        "result = np.dot(matrix1, matrix2)  # Matrix multiplication\n",
        "print(result)"
      ]
    },
    {
      "cell_type": "markdown",
      "id": "4f7e550a",
      "metadata": {
        "id": "4f7e550a"
      },
      "source": [
        "**Transposition**\n",
        "\n",
        "In Python, the transpose function is used to interchange the rows and columns of a matrix or a two-dimensional array. It essentially flips the matrix along its diagonal.\n",
        "\n"
      ]
    },
    {
      "cell_type": "markdown",
      "id": "38ff7276",
      "metadata": {
        "id": "38ff7276"
      },
      "source": [
        "**Demo**\n",
        "\n",
        "**Question: Write a program to create a 2D array with the values [1, 2, 3] and [4, 5, 6], and then transpose the array?**"
      ]
    },
    {
      "cell_type": "code",
      "execution_count": null,
      "id": "5d07ddd1",
      "metadata": {
        "id": "5d07ddd1",
        "outputId": "ce50a037-96d1-4281-bed7-141984231f5f"
      },
      "outputs": [
        {
          "name": "stdout",
          "output_type": "stream",
          "text": [
            "[[1 4]\n",
            " [2 5]\n",
            " [3 6]]\n"
          ]
        }
      ],
      "source": [
        "#Transposition:\n",
        "\n",
        "import numpy as np\n",
        "\n",
        "matrix = np.array([[1, 2, 3], [4, 5, 6]])\n",
        "\n",
        "result = np.transpose(matrix)\n",
        "print(result)"
      ]
    },
    {
      "cell_type": "markdown",
      "id": "a0273f7d",
      "metadata": {
        "id": "a0273f7d"
      },
      "source": [
        "**Practice Time**\n",
        "\n",
        "**Question: Write a program to create a 2D array with the values [7, 7, 3], [2, 9, 6] and [0, 5, 1], and then transpose the array?**"
      ]
    },
    {
      "cell_type": "code",
      "execution_count": null,
      "id": "502a76d0",
      "metadata": {
        "id": "502a76d0",
        "outputId": "48b14cdd-dd33-4657-c2a7-cfbe47b3e655"
      },
      "outputs": [
        {
          "name": "stdout",
          "output_type": "stream",
          "text": [
            "Matrix\n",
            " [[7 7 3]\n",
            " [2 9 6]\n",
            " [0 5 1]]\n",
            "\n",
            "Transpose of A using NumPy:\n",
            " [[7 2 0]\n",
            " [7 9 5]\n",
            " [3 6 1]]\n"
          ]
        }
      ],
      "source": [
        "# Define the matrix A\n",
        "A = np.array([[7, 7, 3], [2, 9, 6], [0, 5, 1]])\n",
        "\n",
        "print(\"Matrix\\n\", A)\n",
        "# Calculate the transpose of A using NumPy\n",
        "A_transpose = np.transpose(A)\n",
        "\n",
        "print(\"\\nTranspose of A using NumPy:\\n\", A_transpose)"
      ]
    },
    {
      "cell_type": "markdown",
      "id": "379eaab5",
      "metadata": {
        "id": "379eaab5"
      },
      "source": [
        "#### **Determinant:**\n",
        "\n",
        "Determinant is a very useful value in linear algebra. It calculated from the diagonal elements of a square matrix. For a 2x2 matrix, it is simply the subtraction of the product of the top left and bottom right element from the product of other two.\n",
        "\n",
        "In other words, for a matrix [[a,b], [c,d]], the determinant is computed as ‘ad-bc’. The larger square matrices are considered to be a combination of 2x2 matrices.\n",
        "\n",
        "The numpy.linalg.det() function calculates the determinant of the input matrix.\n"
      ]
    },
    {
      "cell_type": "code",
      "execution_count": null,
      "id": "cd6023ee",
      "metadata": {
        "id": "cd6023ee",
        "outputId": "07e94d26-12fd-43bf-b22c-8528f60e3297"
      },
      "outputs": [
        {
          "name": "stdout",
          "output_type": "stream",
          "text": [
            "-2.0000000000000004\n"
          ]
        }
      ],
      "source": [
        "#Determinant:\n",
        "\n",
        "import numpy as np\n",
        "\n",
        "matrix = np.array([[1, 2], [3, 4]])\n",
        "\n",
        "result = np.linalg.det(matrix)\n",
        "print(result)\n",
        "# Output: -2.0"
      ]
    },
    {
      "cell_type": "code",
      "execution_count": null,
      "id": "8bf25781",
      "metadata": {
        "id": "8bf25781",
        "outputId": "bc907f08-d8e9-4a06-afaa-fb295ea085ac"
      },
      "outputs": [
        {
          "name": "stdout",
          "output_type": "stream",
          "text": [
            "Determinant of A using NumPy: -130.99999999999994\n"
          ]
        }
      ],
      "source": [
        "# Define the matrix A\n",
        "A = np.array([[7, 7, 3], [2, 9, 6], [0, 5, 1]])\n",
        "\n",
        "# Calculate the determinant of A using NumPy\n",
        "A_det = np.linalg.det(A)\n",
        "\n",
        "print(\"Determinant of A using NumPy:\", A_det)\n"
      ]
    },
    {
      "cell_type": "markdown",
      "id": "7e5b7d44",
      "metadata": {
        "id": "7e5b7d44"
      },
      "source": [
        "###**inverse:**\n",
        "\n",
        "\n",
        "We use numpy.linalg.inv() function to calculate the inverse of a matrix. The inverse of a matrix is such that if it is multiplied by the original matrix, it results in identity matrix."
      ]
    },
    {
      "cell_type": "code",
      "execution_count": null,
      "id": "0c472037",
      "metadata": {
        "id": "0c472037",
        "outputId": "39cb72e3-52ee-41cc-e639-07d894a77a15"
      },
      "outputs": [
        {
          "name": "stdout",
          "output_type": "stream",
          "text": [
            "[[-2.   1. ]\n",
            " [ 1.5 -0.5]]\n"
          ]
        }
      ],
      "source": [
        "\n",
        "#Inversion:\n",
        "\n",
        "import numpy as np\n",
        "\n",
        "matrix = np.array([[1, 2], [3, 4]])\n",
        "\n",
        "result = np.linalg.inv(matrix)\n",
        "print(result)\n",
        "# Output: [[-2.   1. ]\n",
        "#          [ 1.5 -0.5]]"
      ]
    },
    {
      "cell_type": "code",
      "execution_count": null,
      "id": "f9e56853",
      "metadata": {
        "id": "f9e56853",
        "outputId": "44dec736-f377-4ee5-b8bc-5643f8cd6c52"
      },
      "outputs": [
        {
          "name": "stdout",
          "output_type": "stream",
          "text": [
            "Inverse of A using NumPy:\n",
            " [[ 0.16030534 -0.0610687  -0.11450382]\n",
            " [ 0.01526718 -0.05343511  0.27480916]\n",
            " [-0.07633588  0.26717557 -0.3740458 ]]\n"
          ]
        }
      ],
      "source": [
        "# Define the matrix A\n",
        "A = np.array([[7, 7, 3], [2, 9, 6], [0, 5, 1]])\n",
        "\n",
        "# Calculate the inverse of A using NumPy\n",
        "A_inv = np.linalg.inv(A)\n",
        "\n",
        "print(\"Inverse of A using NumPy:\\n\", A_inv)"
      ]
    },
    {
      "cell_type": "markdown",
      "id": "19166fb8",
      "metadata": {
        "id": "19166fb8"
      },
      "source": [
        "###**Normalise:**\n",
        "\n",
        "To normalize a matrix means to scale the values such that that the range of the row or column values is between 0 and 1. The easiest way to normalize the values of a NumPy matrix is to use the normalize() function from the sklearn package, which uses the following basic syntax: from sklearn."
      ]
    },
    {
      "cell_type": "code",
      "execution_count": null,
      "id": "7f58cfaa",
      "metadata": {
        "id": "7f58cfaa",
        "outputId": "a0865fc7-8aa4-4dd7-9dae-21dce708093e"
      },
      "outputs": [
        {
          "name": "stdout",
          "output_type": "stream",
          "text": [
            "[[0.18257419 0.36514837]\n",
            " [0.54772256 0.73029674]]\n"
          ]
        }
      ],
      "source": [
        "A = np.array([[1, 2], [3, 4]])\n",
        "\n",
        "# Calculate the magnitude of the vector\n",
        "magnitude = np.linalg.norm(A)\n",
        "\n",
        "# Normalize the vector by dividing each element by the magnitude\n",
        "normalized_vector = A / magnitude\n",
        "\n",
        "print(normalized_vector)"
      ]
    },
    {
      "cell_type": "code",
      "execution_count": null,
      "id": "78d01835",
      "metadata": {
        "id": "78d01835",
        "outputId": "7c9a2922-b0df-414d-d6dd-e1febedbd0a4"
      },
      "outputs": [
        {
          "name": "stdout",
          "output_type": "stream",
          "text": [
            "Matrix norm:  9.539392014169456\n"
          ]
        }
      ],
      "source": [
        "import numpy as np\n",
        "\n",
        "A = np.array([[1, 2], [3, 4], [5, 6]])\n",
        "\n",
        "matrix_norm = np.linalg.norm(A)\n",
        "\n",
        "print(\"Matrix norm: \", matrix_norm)\n"
      ]
    },
    {
      "cell_type": "code",
      "execution_count": null,
      "id": "40959c70",
      "metadata": {
        "id": "40959c70",
        "outputId": "fa21e1f8-9833-49f3-e30b-2f07578e5bf7"
      },
      "outputs": [
        {
          "name": "stdout",
          "output_type": "stream",
          "text": [
            "Original matrix:\n",
            " [[1 2 3]\n",
            " [4 5 6]\n",
            " [7 8 9]]\n",
            "Normalized matrix:\n",
            " [[0.05923489 0.11846978 0.17770466]\n",
            " [0.23693955 0.29617444 0.35540933]\n",
            " [0.41464421 0.4738791  0.53311399]]\n"
          ]
        }
      ],
      "source": [
        "# define the matrix\n",
        "A = np.array([[1, 2, 3], [4, 5, 6], [7, 8, 9]])\n",
        "\n",
        "# calculate the norm of the matrix\n",
        "norm_A = np.linalg.norm(A)\n",
        "\n",
        "# normalize the matrix\n",
        "A_norm = A / norm_A\n",
        "\n",
        "print(\"Original matrix:\\n\", A)\n",
        "print(\"Normalized matrix:\\n\", A_norm)"
      ]
    },
    {
      "cell_type": "code",
      "execution_count": null,
      "id": "f92b87e7",
      "metadata": {
        "id": "f92b87e7"
      },
      "outputs": [],
      "source": []
    },
    {
      "cell_type": "code",
      "execution_count": null,
      "id": "f998272f",
      "metadata": {
        "id": "f998272f",
        "outputId": "373fdee6-ab99-4481-e641-46fbbd1f310d"
      },
      "outputs": [
        {
          "name": "stdout",
          "output_type": "stream",
          "text": [
            "[[ 18]\n",
            " [ 92]\n",
            " [198]]\n"
          ]
        }
      ],
      "source": [
        "import numpy as np\n",
        "\n",
        "fruits = np.array([['Mango'],['Orange'],['Apple']])\n",
        "Price = np.array([[9],[23],[66]])\n",
        "kg = np.array([[2],[4], [3]])\n",
        "vegetables = np.array([['Carrot'],['Spinach'],['Broccoli']])\n",
        "kilogram = np.array([[6], [9], [12]])\n",
        "price = np.array([[25],[12],[50]])\n",
        "\n",
        "# Add the fruits and vegetables arrays\n",
        "Total_cost_fruits = Price*kg\n",
        "\n",
        "# Print the fruits_vegetables array\n",
        "print(Total_cost_fruits)"
      ]
    },
    {
      "cell_type": "code",
      "execution_count": null,
      "id": "01b7bb05",
      "metadata": {
        "id": "01b7bb05"
      },
      "outputs": [],
      "source": [
        "import numpy as np\n",
        "\n",
        "# Convert the given lists to NumPy arrays\n",
        "fruits = np.array([[27, 19, 11], [9, 23, 66], [11, 55, 88], [43, 87, 56]])\n",
        "vegetables = np.array([[32, 12, 44], [6, 9, 12], [37, 29, 51], [17, 13, 19]])\n",
        "\n",
        "# Addition\n",
        "result_addition = fruits + vegetables\n",
        "print(\"Addition:\")\n",
        "print(result_addition)\n",
        "# Output:\n",
        "# [[59 31 55]\n",
        "#  [15 32 78]\n",
        "#  [48 84 139]\n",
        "#  [60 100 75]]\n",
        "\n"
      ]
    },
    {
      "cell_type": "code",
      "execution_count": null,
      "id": "0fb66872",
      "metadata": {
        "id": "0fb66872",
        "outputId": "6c761e39-7f76-455a-de0d-af0c3e59b856"
      },
      "outputs": [
        {
          "name": "stdout",
          "output_type": "stream",
          "text": [
            "total cost for fruits are:  [[ 18]\n",
            " [ 92]\n",
            " [198]]\n",
            "Price after discount for fruits are:  [[ 15]\n",
            " [ 87]\n",
            " [191]]\n",
            "...............\n",
            "total cost for vegetables are:  [[150]\n",
            " [108]\n",
            " [600]]\n",
            "Price after discount for vegetables are:  [[147]\n",
            " [103]\n",
            " [593]]\n",
            "total amount paid for both fruits and vegetables are:  [[162]\n",
            " [190]\n",
            " [784]]\n"
          ]
        }
      ],
      "source": [
        "fruits = np.array([['Mango'],['Orange'],['Apple']])\n",
        "fruits_Price = np.array([[9],[23],[66]])\n",
        "kg = np.array([[2],[4], [3]])\n",
        "vegetables = np.array([['Carrot'],['Spinach'],['Broccoli']])\n",
        "kilogram = np.array([[6], [9], [12]])\n",
        "veg_price = np.array([[25],[12],[50]])\n",
        "discount = np.array([[3],[5],[7]])\n",
        "\n",
        "# Add the fruits and vegetables arrays\n",
        "Total_cost_fruits = Price*kg\n",
        "total_cost_veg = veg_price*kilogram\n",
        "\n",
        "# Print the fruits_vegetables array\n",
        "print('total cost for fruits are: ',Total_cost_fruits)\n",
        "\n",
        "price_after_disc_fruits=Total_cost_fruits-discount\n",
        "price_after_disc_fruits\n",
        "print('Price after discount for fruits are: ',price_after_disc_fruits)\n",
        "\n",
        "print(\"...............\")\n",
        "print('total cost for vegetables are: ',total_cost_veg)\n",
        "price_after_disc_veg=total_cost_veg-discount\n",
        "price_after_disc_veg\n",
        "print('Price after discount for vegetables are: ',price_after_disc_veg)\n",
        "\n",
        "Total_amount_paid = price_after_disc_fruits + price_after_disc_veg\n",
        "print('total amount paid for both fruits and vegetables are: ',Total_amount_paid)"
      ]
    },
    {
      "cell_type": "markdown",
      "id": "3825b8fc",
      "metadata": {
        "id": "3825b8fc"
      },
      "source": [
        "**Practice Time**\n",
        "\n",
        "**Question: Write a program to create a 2 dimnensional array and perform various matrix operations for the following.**\n",
        "\n",
        "**fruits = ['Mango','Orange','Apple']**\n",
        "\n",
        "**fruits_Price = [9,23,66]**\n",
        "\n",
        "**fruits_kg = [2, 4, 3]**\n",
        "\n",
        "**vegetables = ['Carrot','Spinach','Broccoli']**\n",
        "\n",
        "**veg_kg = [6, 9, 12]**\n",
        "\n",
        "**veg_price =[25, 12, 50]**\n",
        "\n",
        "**discount = [3, 5, 7]**\n",
        "\n",
        "**Answer the following questions:**\n",
        "\n",
        "**Question: 1 Calculate the total cost of fruits and vegetables bought by Nicole, by using matrix operations.**\n",
        "\n",
        "**Question: 2 Write a program that calculates the final cost of fruits and vegetables after deducting the discount from the original cost by using matrix oprations.**\n",
        "\n",
        "**Question: 3 Find the total amount that Nicole has to pay for both fruits and vegetables before tax.**\n",
        "\n",
        "**Question: 4 Write a program to determine the total amount Nicole needs to pay by applying a 5% tax rate on fruits and vegetables.**"
      ]
    },
    {
      "cell_type": "code",
      "execution_count": null,
      "id": "1b9d048d",
      "metadata": {
        "id": "1b9d048d",
        "outputId": "316933ea-5b8a-42f6-9200-0217a4f9ba8b"
      },
      "outputs": [
        {
          "name": "stdout",
          "output_type": "stream",
          "text": [
            "The total cost of fruits are:  [ 18  92 198]\n",
            "The total cost of fruits are:  [150 108 600]\n"
          ]
        }
      ],
      "source": [
        "import numpy as np\n",
        "\n",
        "fruits = np.array([['Mango'],['Orange'],['Apple']])\n",
        "fruits_Price = np.array([[9],[23],[66]])\n",
        "fruits_kg = np.array([[2],[4], [3]])\n",
        "vegetables = np.array([['Carrot'],['Spinach'],['Broccoli']])\n",
        "veg_kg = np.array([[6], [9], [12]])\n",
        "veg_price = np.array([[25],[12],[50]])\n",
        "discount = np.array([[3],[5],[7]])\n",
        "\n",
        "# Calculate the total cost of fruits\n",
        "total_fruit_cost = np.sum(fruits_Price * kg, axis=1)\n",
        "print('The total cost of fruits are: ',total_fruit_cost)\n",
        "# Calculate the total cost of vegetables\n",
        "total_veg_cost = np.sum(veg_price * kilogram, axis=1)\n",
        "print('The total cost of fruits are: ', total_veg_cost)\n"
      ]
    },
    {
      "cell_type": "code",
      "execution_count": null,
      "id": "5e90c248",
      "metadata": {
        "id": "5e90c248",
        "outputId": "883d545c-6518-47e2-b78d-546a95586d56"
      },
      "outputs": [
        {
          "name": "stdout",
          "output_type": "stream",
          "text": [
            "The total price of fruits after discount are:  [ 15  87 191]\n",
            "The total price of vegetables after discount are:  [147 103 593]\n"
          ]
        }
      ],
      "source": [
        "\n",
        "# Calculate the total discount\n",
        "total_discount = np.sum(discount, axis=1)\n",
        "total_discount\n",
        "total_price_fruits=total_fruit_cost- total_discount\n",
        "print('The total price of fruits after discount are: ',total_price_fruits)\n",
        "total_price_veg=total_veg_cost- total_discount\n",
        "print('The total price of vegetables after discount are: ',total_price_veg)\n"
      ]
    },
    {
      "cell_type": "code",
      "execution_count": null,
      "id": "932186e2",
      "metadata": {
        "id": "932186e2",
        "outputId": "989fc82d-edb2-4f4e-b334-77fae4aaa5c1"
      },
      "outputs": [
        {
          "name": "stdout",
          "output_type": "stream",
          "text": [
            "Total amount spent: [162 190 784]\n"
          ]
        }
      ],
      "source": [
        "\n",
        "# Calculate the total amount spent\n",
        "total_amount = total_price_fruits + total_price_veg\n",
        "print(\"Total amount for fruits and vegetables before tax is :\", total_amount)"
      ]
    },
    {
      "cell_type": "code",
      "execution_count": null,
      "id": "3e47c132",
      "metadata": {
        "id": "3e47c132",
        "outputId": "d76c6818-7850-4b89-e4ad-f72de848b8e3"
      },
      "outputs": [
        {
          "name": "stdout",
          "output_type": "stream",
          "text": [
            "The tax amount is:  [ 8.1  9.5 39.2]\n",
            "Total amount spent, including tax: [170.1 199.5 823.2]\n"
          ]
        }
      ],
      "source": [
        "# Calculate the tax on fruits and vegetables\n",
        "tax = total_amount * 5/100\n",
        "print('The tax amount is: ',tax)\n",
        "# Calculate the total amount spent, including tax.\n",
        "total_amount_with_tax = total_amount + tax\n",
        "\n",
        "# Print the total amount spent, including tax.\n",
        "print(\"Total amount spent, including tax:\", total_amount_with_tax)"
      ]
    },
    {
      "cell_type": "code",
      "execution_count": null,
      "id": "a7f456ca",
      "metadata": {
        "id": "a7f456ca"
      },
      "outputs": [],
      "source": []
    },
    {
      "cell_type": "markdown",
      "id": "38c2f8e3",
      "metadata": {
        "id": "38c2f8e3"
      },
      "source": [
        "**1. Which of the following is the correct way to add two matrices in Python?**\n",
        "    \n",
        "   * **a. A + B**\n",
        "   * **b. A += B**\n",
        "   * **c. B += A**\n",
        "   * **d. A.add(B)**\n",
        "    \n",
        "**Ans: a.  A + B**\n",
        "    \n",
        "**2. What is the product of the matrices A and B in Python, where A is a 2x3 matrix and B is a 3x2 matrix?**\n",
        "    \n",
        "   * **a. A * B**\n",
        "   * **b. A @ B**\n",
        "   * **c. B @ A**\n",
        "   * **d. A.dot(B)**\n",
        "    \n",
        "**Ans: b. A @ B**\n",
        "    \n",
        "**3. What is the transpose of the matrix A in Python, where A is a 3x2 matrix?**\n",
        "   \n",
        "   * **a. A.T**\n",
        "   * **b. A.transpose()**\n",
        "   * **c. A.trans()**\n",
        "   * **d. A.swapaxes(0, 1)**\n",
        "\n",
        "**Ans: a. A.T**   \n",
        "    \n",
        "**4. What is the inverse of the matrix A in Python, where A is a 2x2 matrix?**\n",
        "    \n",
        "   * **a. A.inv()**\n",
        "   * **b. A.inverse()**\n",
        "   * **c. A.solve()**\n",
        "   * **d. None of the above**\n",
        "\n",
        "**Ans: a. A.inv()**"
      ]
    },
    {
      "cell_type": "markdown",
      "id": "140b6d74",
      "metadata": {
        "id": "140b6d74"
      },
      "source": [
        "**Question:5**\n",
        "\n",
        "**Imagine you have the monthly sales data of a company for the past year stored as a vector. How can you find the total sales for the year using Python?**\n",
        "\n",
        "**Total_sales = [10000, 15000, 12000, 18000, 20000, 22000, 19000, 23000, 25000, 21000, 18000, 22000]**"
      ]
    },
    {
      "cell_type": "code",
      "execution_count": null,
      "id": "edbcf2b5",
      "metadata": {
        "id": "edbcf2b5",
        "outputId": "d18bb485-4e4b-4cff-da89-d9cb34e94290"
      },
      "outputs": [
        {
          "name": "stdout",
          "output_type": "stream",
          "text": [
            "225000\n"
          ]
        }
      ],
      "source": [
        "#alculate the total sales for the year:\n",
        "\n",
        "import numpy as np\n",
        "\n",
        "sales_data = np.array([10000, 15000, 12000, 18000, 20000, 22000, 19000, 23000, 25000, 21000, 18000, 22000])\n",
        "total_sales = np.sum(sales_data)\n",
        "print(total_sales)"
      ]
    },
    {
      "cell_type": "markdown",
      "id": "b059a1a6",
      "metadata": {
        "id": "b059a1a6"
      },
      "source": [
        "**Question: 6**\n",
        "\n",
        "**How would you calculate the Body Mass Index (BMI) for each individual in Python, given their heights and weights as arrays? The heights array contains [165, 170, 155, 180, 175] and the weights array contains [60, 65, 50, 75, 70].**"
      ]
    },
    {
      "cell_type": "code",
      "execution_count": null,
      "id": "41b335f5",
      "metadata": {
        "id": "41b335f5",
        "outputId": "abe3a26b-beaf-476c-f6e7-0a62f39ce402"
      },
      "outputs": [
        {
          "name": "stdout",
          "output_type": "stream",
          "text": [
            "[22.03856749 22.49134948 20.81165453 23.14814815 22.85714286]\n"
          ]
        }
      ],
      "source": [
        "import numpy as np\n",
        "\n",
        "heights = np.array([165, 170, 155, 180, 175])\n",
        "weights = np.array([60, 65, 50, 75, 70])\n",
        "\n",
        "bmi = weights / ((heights / 100) ** 2)\n",
        "print(bmi)"
      ]
    },
    {
      "cell_type": "markdown",
      "id": "d6ecf131",
      "metadata": {
        "id": "d6ecf131"
      },
      "source": [
        "**Question: 7**\n",
        "\n",
        "**From the numpy array \"temperature_data\" containing the values [25, 28, 30, 32, 29, 27, 26, 24, 23, 22, 20, 21], what is the average temperature?**"
      ]
    },
    {
      "cell_type": "code",
      "execution_count": null,
      "id": "2aee4f34",
      "metadata": {
        "id": "2aee4f34",
        "outputId": "5c4dabf9-23a5-45ff-d490-ef2f3559a17c"
      },
      "outputs": [
        {
          "name": "stdout",
          "output_type": "stream",
          "text": [
            "25.583333333333332\n"
          ]
        }
      ],
      "source": [
        "import numpy as np\n",
        "\n",
        "temperature_data = np.array([25, 28, 30, 32, 29, 27, 26, 24, 23, 22, 20, 21])\n",
        "\n",
        "average_temperature = np.mean(temperature_data)\n",
        "print(average_temperature)"
      ]
    },
    {
      "cell_type": "markdown",
      "id": "e3e7ad86",
      "metadata": {
        "id": "e3e7ad86"
      },
      "source": [
        "**Question: 8**\n",
        "\n",
        "**Calculate the Euclidean distance between two 3D points: point1 = [1, 2, 3] and point2 = [4, 5, 6]. What is the distance between them?**"
      ]
    },
    {
      "cell_type": "code",
      "execution_count": null,
      "id": "69f01d06",
      "metadata": {
        "id": "69f01d06",
        "outputId": "e76e3cfb-f43a-4399-b2b9-d0e6bd5b4b63"
      },
      "outputs": [
        {
          "name": "stdout",
          "output_type": "stream",
          "text": [
            "5.196152422706632\n"
          ]
        }
      ],
      "source": [
        "#Calculate the Euclidean distance between two 3D points:\n",
        "\n",
        "import numpy as np\n",
        "\n",
        "point1 = np.array([1, 2, 3])\n",
        "point2 = np.array([4, 5, 6])\n",
        "\n",
        "distance = np.linalg.norm(point2 - point1)\n",
        "print(distance)\n"
      ]
    },
    {
      "cell_type": "code",
      "execution_count": null,
      "id": "f59c6b44",
      "metadata": {
        "id": "f59c6b44"
      },
      "outputs": [],
      "source": []
    },
    {
      "cell_type": "code",
      "execution_count": null,
      "id": "3af84472",
      "metadata": {
        "id": "3af84472",
        "outputId": "811a2847-0cf1-4c1f-976a-f7a484c26695"
      },
      "outputs": [
        {
          "name": "stdout",
          "output_type": "stream",
          "text": [
            "0\n"
          ]
        }
      ],
      "source": [
        "#Find the most influential node in a network:\n",
        "\n",
        "import numpy as np\n",
        "\n",
        "network_matrix = np.array([\n",
        "    [0, 1, 0, 1],\n",
        "    [1, 0, 1, 0],\n",
        "    [0, 1, 0, 1],\n",
        "    [1, 0, 1, 0]\n",
        "])\n",
        "\n",
        "influential_node = np.argmax(np.sum(network_matrix, axis=1))\n",
        "print(influential_node)"
      ]
    },
    {
      "cell_type": "markdown",
      "id": "8a814ded",
      "metadata": {
        "id": "8a814ded"
      },
      "source": [
        "**Question: 9**\n",
        "\n",
        "**Consider a scenario where you have user ratings for different movies stored as a matrix. The matrix user_ratings represents the ratings given by three users (User 0, User 1, and User 2) to four movies. The ratings range from 1 to 5. Using this information, how can you recommend similar movies to User 0 based on their ratings?**"
      ]
    },
    {
      "cell_type": "code",
      "execution_count": null,
      "id": "f7f11b3b",
      "metadata": {
        "id": "f7f11b3b",
        "outputId": "d879777e-90ee-46f2-d282-8aa916c48c41"
      },
      "outputs": [
        {
          "name": "stdout",
          "output_type": "stream",
          "text": [
            "Similar movies for user 0: [0 2 1]\n"
          ]
        }
      ],
      "source": [
        "#Recommending similar movies based on user ratings:\n",
        "import numpy as np\n",
        "\n",
        "user_ratings = np.array([[5, 4, 3, 1],\n",
        "                         [2, 3, 5, 4],\n",
        "                         [4, 5, 1, 2]])\n",
        "\n",
        "# Calculate similarity matrix (cosine similarity)\n",
        "similarity_matrix = np.dot(user_ratings, user_ratings.T) / (np.linalg.norm(user_ratings, axis=1)[:, None] * np.linalg.norm(user_ratings, axis=1))\n",
        "\n",
        "# Find similar movies for a given user (e.g., user 0)\n",
        "similar_movies = np.argsort(similarity_matrix[0])[::-1]\n",
        "print(\"Similar movies for user 0:\", similar_movies)"
      ]
    },
    {
      "cell_type": "markdown",
      "id": "b3d3b022",
      "metadata": {
        "id": "b3d3b022"
      },
      "source": [
        "**Question: 10**\n",
        "\n",
        "**How can you access and extract the age, income, and education level of individuals from a dataset represented as a matrix called dataset? Each row in the matrix represents an individual, while the columns correspond to different features (age, income, and education level).**\n",
        "\n",
        "**Consider the following dataset:**\n",
        "\n",
        "dataset = np.array([\n",
        "   **[25, 50000, 12],**\n",
        "   \n",
        "   **[30, 60000, 16],**\n",
        "   \n",
        "   **[35, 70000, 14],**\n",
        "    \n",
        "   **[28, 55000, 15]**\n",
        "**])**\n",
        "\n",
        "**Using Python, demonstrate how you can access and extract the individual features (ages, incomes, and educations) from the dataset matrix.**"
      ]
    },
    {
      "cell_type": "code",
      "execution_count": null,
      "id": "f25ebe75",
      "metadata": {
        "id": "f25ebe75",
        "outputId": "7e00849c-5e22-450f-9c9b-a609c3cc6b8c"
      },
      "outputs": [
        {
          "name": "stdout",
          "output_type": "stream",
          "text": [
            "Ages: [25 30 35 28]\n",
            "Incomes: [50000 60000 70000 55000]\n",
            "Educations: [12 16 14 15]\n"
          ]
        }
      ],
      "source": [
        "#Representing a dataset with multiple features using a matrix:\n",
        "\n",
        "import numpy as np\n",
        "\n",
        "dataset = np.array([\n",
        "    [25, 50000, 12],\n",
        "    [30, 60000, 16],\n",
        "    [35, 70000, 14],\n",
        "    [28, 55000, 15]\n",
        "])\n",
        "\n",
        "# Accessing individual features\n",
        "ages = dataset[:, 0]\n",
        "incomes = dataset[:, 1]\n",
        "educations = dataset[:, 2]\n",
        "\n",
        "print(\"Ages:\", ages)\n",
        "print(\"Incomes:\", incomes)\n",
        "print(\"Educations:\", educations)"
      ]
    },
    {
      "cell_type": "code",
      "execution_count": null,
      "id": "0c5f937c",
      "metadata": {
        "id": "0c5f937c"
      },
      "outputs": [],
      "source": []
    },
    {
      "cell_type": "code",
      "execution_count": null,
      "id": "9aebbfa7",
      "metadata": {
        "id": "9aebbfa7"
      },
      "outputs": [],
      "source": []
    },
    {
      "cell_type": "code",
      "execution_count": null,
      "id": "bc254e0a",
      "metadata": {
        "id": "bc254e0a"
      },
      "outputs": [],
      "source": []
    }
  ],
  "metadata": {
    "kernelspec": {
      "display_name": "Python 3 (ipykernel)",
      "language": "python",
      "name": "python3"
    },
    "language_info": {
      "codemirror_mode": {
        "name": "ipython",
        "version": 3
      },
      "file_extension": ".py",
      "mimetype": "text/x-python",
      "name": "python",
      "nbconvert_exporter": "python",
      "pygments_lexer": "ipython3",
      "version": "3.10.10"
    },
    "colab": {
      "provenance": [],
      "include_colab_link": true
    }
  },
  "nbformat": 4,
  "nbformat_minor": 5
}